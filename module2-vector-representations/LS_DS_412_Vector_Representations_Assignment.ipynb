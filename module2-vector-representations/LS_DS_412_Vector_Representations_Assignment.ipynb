{
 "cells": [
  {
   "cell_type": "markdown",
   "metadata": {},
   "source": [
    "<img align=\"left\" src=\"https://lever-client-logos.s3.amazonaws.com/864372b1-534c-480e-acd5-9711f850815c-1524247202159.png\" width=200>\n",
    "<br></br>\n",
    "\n",
    "# Vector Representations\n",
    "## *Data Science Unit 4 Sprint 2 Assignment 2*"
   ]
  },
  {
   "cell_type": "code",
   "execution_count": 2,
   "metadata": {
    "colab": {
     "base_uri": "https://localhost:8080/",
     "height": 159
    },
    "colab_type": "code",
    "id": "hyj-f9FDcVFp",
    "outputId": "5dd045fe-6e4c-458c-e2fc-253c3da9c805"
   },
   "outputs": [
    {
     "name": "stderr",
     "output_type": "stream",
     "text": [
      "/Users/lotta/.conda/envs/NLP/lib/python3.7/importlib/_bootstrap.py:219: RuntimeWarning: numpy.ufunc size changed, may indicate binary incompatibility. Expected 192 from C header, got 216 from PyObject\n",
      "  return f(*args, **kwds)\n",
      "/Users/lotta/.conda/envs/NLP/lib/python3.7/importlib/_bootstrap.py:219: RuntimeWarning: numpy.ufunc size changed, may indicate binary incompatibility. Expected 216, got 192\n",
      "  return f(*args, **kwds)\n"
     ]
    }
   ],
   "source": [
    "import re\n",
    "import string\n",
    "\n",
    "from sklearn.feature_extraction.text import CountVectorizer, TfidfVectorizer\n",
    "import matplotlib.pyplot as plt\n",
    "import pandas as pd\n",
    "import numpy as np\n",
    "import spacy"
   ]
  },
  {
   "cell_type": "markdown",
   "metadata": {
    "colab_type": "text",
    "id": "M7bcmqfGXrFG"
   },
   "source": [
    "## 1) *Optional:* Scrape 100 Job Listings that contain the title \"Data Scientist\" from indeed.com\n",
    "\n",
    "At a minimum your final dataframe of job listings should contain\n",
    "- Job Title\n",
    "- Job Description\n",
    "\n",
    "If you choose to not to scrape the data, there is a CSV with outdated data in the directory. Remeber, if you scrape Indeed, you're helping yourself find a job. ;)"
   ]
  },
  {
   "cell_type": "markdown",
   "metadata": {},
   "source": [
    "This is mainly for me. I will be separting the data gathering in three ways. Using the Indeed.com API, if approved, using the scraping method with HTML, and using the .csv. Honestly, I prefer APIs whenever possible. "
   ]
  },
  {
   "cell_type": "markdown",
   "metadata": {},
   "source": [
    "### Scraping from HTML."
   ]
  },
  {
   "cell_type": "code",
   "execution_count": 3,
   "metadata": {},
   "outputs": [],
   "source": [
    "# imports\n",
    "import requests\n",
    "import bs4\n",
    "from bs4 import BeautifulSoup\n",
    "import time"
   ]
  },
  {
   "cell_type": "code",
   "execution_count": 4,
   "metadata": {},
   "outputs": [],
   "source": [
    "URL = \"https://www.indeed.com/jobs?q=cloud+engineer&l=Draper%2C+UT&radius=50#\"\n",
    "page = requests.get(URL)\n",
    "soup = BeautifulSoup(page.text, \"html.parser\")\n"
   ]
  },
  {
   "cell_type": "code",
   "execution_count": 5,
   "metadata": {},
   "outputs": [],
   "source": [
    "def getJobTitle(soup):\n",
    "    jobs = []\n",
    "    for div in soup.find_all(name=\"div\", attrs={\"class\":\"row\"}):\n",
    "        for a in div.find_all(name=\"a\", attrs={\"data-tn-element\":\"jobTitle\"}):\n",
    "            jobs.append(a[\"title\"])\n",
    "    return jobs\n",
    "\n",
    "def getCompany(soup):\n",
    "    companies = []\n",
    "    for div in soup.find_all(name=\"div\", attrs={\"class\":\"row\"}):\n",
    "        company = div.find_all(name=\"span\", attrs={\"class\":\"company\"})\n",
    "        if len(company) > 0:\n",
    "            for b in company:\n",
    "                companies.append(b.text.strip())\n",
    "        else:\n",
    "            sec_try = div.find_all(name=\"span\", attrs={\"class\":\"result-link-source\"})\n",
    "            for span in sec_try:\n",
    "                companies.append(span.text.strip())\n",
    "    return(companies)\n",
    "\n",
    "def getLocations(soup):\n",
    "    locations = []\n",
    "    spans = soup.findAll('span', attrs={\"class\":\"location\"})\n",
    "    for span in spans:\n",
    "        locations.append(span.text)\n",
    "    return locations\n",
    "\n",
    "def getDesc(soup):\n",
    "    descriptions = []\n",
    "    spans = soup.findAll(\"div\", attrs={\"class\":\"summary\"})\n",
    "    for span in spans:\n",
    "        descriptions.append(span.text.strip())\n",
    "    return descriptions"
   ]
  },
  {
   "cell_type": "code",
   "execution_count": 6,
   "metadata": {},
   "outputs": [],
   "source": [
    "data = getJobTitle(soup)"
   ]
  },
  {
   "cell_type": "code",
   "execution_count": 7,
   "metadata": {},
   "outputs": [
    {
     "data": {
      "text/plain": [
       "(18, 1)"
      ]
     },
     "execution_count": 7,
     "metadata": {},
     "output_type": "execute_result"
    }
   ],
   "source": [
    "df = pd.DataFrame(data, columns = ['Job Title'])\n",
    "df.shape"
   ]
  },
  {
   "cell_type": "code",
   "execution_count": 8,
   "metadata": {},
   "outputs": [],
   "source": [
    "df[\"Company\"] = getCompany(soup)\n",
    "df['Summary'] = getDesc(soup)"
   ]
  },
  {
   "cell_type": "code",
   "execution_count": 9,
   "metadata": {},
   "outputs": [],
   "source": [
    "location = pd.DataFrame(getLocations(soup), columns = ['Location'])\n",
    "indeedDesc = pd.concat([df, location], ignore_index=False, axis=1) "
   ]
  },
  {
   "cell_type": "markdown",
   "metadata": {
    "colab_type": "text",
    "id": "5C4xFZNtX1m2"
   },
   "source": [
    "## 2) Use Spacy to tokenize / clean the listings "
   ]
  },
  {
   "cell_type": "code",
   "execution_count": 10,
   "metadata": {
    "colab": {},
    "colab_type": "code",
    "id": "dhUHuMr-X-II"
   },
   "outputs": [],
   "source": [
    "# Classics\n",
    "import pandas as pd\n",
    "import seaborn as sns\n",
    "import matplotlib.pyplot as plt\n",
    "import itertools\n",
    "\n",
    "from sklearn.feature_extraction.text import CountVectorizer, TfidfVectorizer\n",
    "from sklearn.metrics.pairwise import cosine_similarity\n",
    "from sklearn.neighbors import NearestNeighbors\n",
    "from sklearn.decomposition import PCA\n",
    "\n",
    "import spacy\n",
    "nlp = spacy.load(\"en_core_web_lg\")"
   ]
  },
  {
   "cell_type": "code",
   "execution_count": 11,
   "metadata": {},
   "outputs": [],
   "source": [
    "tokens = []\n",
    "for i in range(len(indeedDesc['Summary'])):\n",
    "    doc = nlp(indeedDesc['Summary'][i])\n",
    "    tokens.append([token.lemma_ for token in doc if (token.is_stop != True) and (token.is_punct != True)])"
   ]
  },
  {
   "cell_type": "code",
   "execution_count": 12,
   "metadata": {},
   "outputs": [],
   "source": [
    "flatten = list(itertools.chain.from_iterable(tokens))\n",
    "# Tokens itself was not flattened. "
   ]
  },
  {
   "cell_type": "code",
   "execution_count": 13,
   "metadata": {},
   "outputs": [
    {
     "name": "stdout",
     "output_type": "stream",
     "text": [
      "[['build', 'maintain', 'automation', 'platform', 'customer', 'face', 'virtualized', 'cloud', 'environment', 'preferred', 'experience', 'designing', 'run', 'consume'], ['experience', 'Citrix', 'Nutanix', 'cloud', 'infrastructure', 'highly', 'desire', 'Terralogic', 'DynaQuest', 'look', 'Systems', 'Engineer', 'talented', 'team'], ['experience', 'work', 'highly', 'virtualize', 'public', 'private', 'cloud', 'environment', 'Progressive', 'Leasing', 'rapidly', 'grow', 'financial', 'service', 'company'], ['strong', 'knowledge', 'cloud', 'architecture', 'solution', 'product', 'offering', 'architect', 'implement', 'new', 'modern', 'voice', 'infrastructure', 'meet', 'Sorenson', 'cloud'], ['Cloud', 'System', 'Azure', 'aws).dutie', 'include', 'address', 'technical', 'support', 'issue', 'phone', 'email', 'ticket', 'onsite'], ['caching', 'eliminate', 'need', 'repeatedly', 'transmit', 'content', 'web', 'server', 'cloud', 'client', 'improve', 'web'], ['Cloud', 'Platforms', 'AWS', 'Azure', 'Heroku).Lashbrook', 'look', 'software', 'Engineer', 'skilled', 'PHP', 'Magento', 'Nodejs', 'Ajax', 'Restful', 'api', 'JSON'], ['Cloud', 'Engineer', 'position', 'professional', 'responsible', 'technological', 'duty', 'associate', 'cloud', 'computing', 'cloud', 'forecasting', 'barometric'], ['Jr.', 'Cloud', 'Integration', 'Engineer', 'NIS', 'Associate-262349.Title', 'Jr.', 'Cloud', 'Integration', 'Engineer', 'Associate).Cloud', 'Technologies', 'Microsoft', 'Azure', 'Google', 'Cloud'], ['lead', 'engineer', 'technical', 'cloud', 'need', 'perform', 'DevOps', 'orchestration', 'cloud', 'environment', 'monitor', 'secure', 'iot', 'datum', 'process'], ['Cloud', 'Engineer', '7', 'year', 'Required).\\uf0b7', 'AWS', 'support', 'operation', 'scale', 'architect', 'ensure', 'high', 'availability', 'systems\\uf0b7', 'automate', 'streamline'], ['look', 'fun', 'energetic', 'hard', 'work', 'Cloud', 'Engineer', 'Verisys', 'seek', 'experienced', 'talented', 'Cloud', 'Engineer', '5', '8', 'year', 'experience'], ['member', 'platform', 'engineering', 'team', 'require', 'support', 'design', 'implementation', 'ongoing', 'maintenance', 'core', 'global', 'cloud'], ['strong', 'experience', 'cloud', 'technology', 'AWS', 'GCP', 'associate', 'architecture', 'Crowdskout', 'operate', 'variety', 'small', 'large', 'scale', 'system'], ['3', '+', 'year', 'experience', 'customer', 'face', 'role', 'Sales', 'Engineer', 'Technical', 'Marketing', 'Engineer', 'Consulting', 'Engineer', 'Solution', 'Architect'], ['WB', 'Games', 'seek', 'Infrastructure', 'Engineer', 'Avalanche', 'Software', 'Studio', 'good', 'knowledge', 'security', 'relate', 'cloud', 'base', 'infrastructure'], ['caching', 'eliminate', 'need', 'repeatedly', 'transmit', 'content', 'web', 'server', 'cloud', 'client', 'improve', 'web'], ['Citrix', 'Certified', 'Engineer', 'CCE', 'XenDesktop', 'XenServer', 'Monitoring', 'Network', 'Application', 'Cloud', 'Environments', 'location', 'Salt', 'Lake', 'City', 'UT']]\n"
     ]
    }
   ],
   "source": [
    "print(tokens) # list of lists. "
   ]
  },
  {
   "cell_type": "code",
   "execution_count": 15,
   "metadata": {},
   "outputs": [
    {
     "name": "stdout",
     "output_type": "stream",
     "text": [
      "['build', 'maintain', 'automation', 'platform', 'customer', 'face', 'virtualized', 'cloud', 'environment', 'preferred', 'experience', 'designing', 'run', 'consume', 'experience', 'Citrix', 'Nutanix', 'cloud', 'infrastructure', 'highly', 'desire', 'Terralogic', 'DynaQuest', 'look', 'Systems', 'Engineer', 'talented', 'team', 'experience', 'work', 'highly', 'virtualize', 'public', 'private', 'cloud', 'environment', 'Progressive', 'Leasing', 'rapidly', 'grow', 'financial', 'service', 'company', 'strong', 'knowledge', 'cloud', 'architecture', 'solution', 'product', 'offering', 'architect', 'implement', 'new', 'modern', 'voice', 'infrastructure', 'meet', 'Sorenson', 'cloud', 'Cloud', 'System', 'Azure', 'aws).dutie', 'include', 'address', 'technical', 'support', 'issue', 'phone', 'email', 'ticket', 'onsite', 'caching', 'eliminate', 'need', 'repeatedly', 'transmit', 'content', 'web', 'server', 'cloud', 'client', 'improve', 'web', 'Cloud', 'Platforms', 'AWS', 'Azure', 'Heroku).Lashbrook', 'look', 'software', 'Engineer', 'skilled', 'PHP', 'Magento', 'Nodejs', 'Ajax', 'Restful', 'api', 'JSON', 'Cloud', 'Engineer', 'position', 'professional', 'responsible', 'technological', 'duty', 'associate', 'cloud', 'computing', 'cloud', 'forecasting', 'barometric', 'Jr.', 'Cloud', 'Integration', 'Engineer', 'NIS', 'Associate-262349.Title', 'Jr.', 'Cloud', 'Integration', 'Engineer', 'Associate).Cloud', 'Technologies', 'Microsoft', 'Azure', 'Google', 'Cloud', 'lead', 'engineer', 'technical', 'cloud', 'need', 'perform', 'DevOps', 'orchestration', 'cloud', 'environment', 'monitor', 'secure', 'iot', 'datum', 'process', 'Cloud', 'Engineer', '7', 'year', 'Required).\\uf0b7', 'AWS', 'support', 'operation', 'scale', 'architect', 'ensure', 'high', 'availability', 'systems\\uf0b7', 'automate', 'streamline', 'look', 'fun', 'energetic', 'hard', 'work', 'Cloud', 'Engineer', 'Verisys', 'seek', 'experienced', 'talented', 'Cloud', 'Engineer', '5', '8', 'year', 'experience', 'member', 'platform', 'engineering', 'team', 'require', 'support', 'design', 'implementation', 'ongoing', 'maintenance', 'core', 'global', 'cloud', 'strong', 'experience', 'cloud', 'technology', 'AWS', 'GCP', 'associate', 'architecture', 'Crowdskout', 'operate', 'variety', 'small', 'large', 'scale', 'system', '3', '+', 'year', 'experience', 'customer', 'face', 'role', 'Sales', 'Engineer', 'Technical', 'Marketing', 'Engineer', 'Consulting', 'Engineer', 'Solution', 'Architect', 'WB', 'Games', 'seek', 'Infrastructure', 'Engineer', 'Avalanche', 'Software', 'Studio', 'good', 'knowledge', 'security', 'relate', 'cloud', 'base', 'infrastructure', 'caching', 'eliminate', 'need', 'repeatedly', 'transmit', 'content', 'web', 'server', 'cloud', 'client', 'improve', 'web', 'Citrix', 'Certified', 'Engineer', 'CCE', 'XenDesktop', 'XenServer', 'Monitoring', 'Network', 'Application', 'Cloud', 'Environments', 'location', 'Salt', 'Lake', 'City', 'UT']\n"
     ]
    }
   ],
   "source": [
    "print(flatten) # Flat list of string objects. "
   ]
  },
  {
   "cell_type": "markdown",
   "metadata": {
    "colab_type": "text",
    "id": "-lgCZNL_YycP"
   },
   "source": [
    "## 3) Use Scikit-Learn's CountVectorizer to get word counts for each listing."
   ]
  },
  {
   "cell_type": "code",
   "execution_count": 16,
   "metadata": {
    "colab": {},
    "colab_type": "code",
    "id": "X2PZ8Pj_YxcF"
   },
   "outputs": [],
   "source": [
    "from sklearn.feature_extraction.text import CountVectorizer\n",
    "\n",
    "vect = CountVectorizer()\n",
    "vect.fit(flatten)\n",
    "dtm = vect.transform(flatten)"
   ]
  },
  {
   "cell_type": "code",
   "execution_count": 17,
   "metadata": {},
   "outputs": [],
   "source": [
    "dtm = pd.DataFrame(dtm.todense(), columns=vect.get_feature_names())\n"
   ]
  },
  {
   "cell_type": "code",
   "execution_count": 18,
   "metadata": {},
   "outputs": [
    {
     "data": {
      "text/html": [
       "<div>\n",
       "<style scoped>\n",
       "    .dataframe tbody tr th:only-of-type {\n",
       "        vertical-align: middle;\n",
       "    }\n",
       "\n",
       "    .dataframe tbody tr th {\n",
       "        vertical-align: top;\n",
       "    }\n",
       "\n",
       "    .dataframe thead th {\n",
       "        text-align: right;\n",
       "    }\n",
       "</style>\n",
       "<table border=\"1\" class=\"dataframe\">\n",
       "  <thead>\n",
       "    <tr style=\"text-align: right;\">\n",
       "      <th></th>\n",
       "      <th>262349</th>\n",
       "      <th>address</th>\n",
       "      <th>ajax</th>\n",
       "      <th>api</th>\n",
       "      <th>application</th>\n",
       "      <th>architect</th>\n",
       "      <th>architecture</th>\n",
       "      <th>associate</th>\n",
       "      <th>automate</th>\n",
       "      <th>automation</th>\n",
       "      <th>...</th>\n",
       "      <th>verisys</th>\n",
       "      <th>virtualize</th>\n",
       "      <th>virtualized</th>\n",
       "      <th>voice</th>\n",
       "      <th>wb</th>\n",
       "      <th>web</th>\n",
       "      <th>work</th>\n",
       "      <th>xendesktop</th>\n",
       "      <th>xenserver</th>\n",
       "      <th>year</th>\n",
       "    </tr>\n",
       "  </thead>\n",
       "  <tbody>\n",
       "    <tr>\n",
       "      <th>0</th>\n",
       "      <td>0</td>\n",
       "      <td>0</td>\n",
       "      <td>0</td>\n",
       "      <td>0</td>\n",
       "      <td>0</td>\n",
       "      <td>0</td>\n",
       "      <td>0</td>\n",
       "      <td>0</td>\n",
       "      <td>0</td>\n",
       "      <td>0</td>\n",
       "      <td>...</td>\n",
       "      <td>0</td>\n",
       "      <td>0</td>\n",
       "      <td>0</td>\n",
       "      <td>0</td>\n",
       "      <td>0</td>\n",
       "      <td>0</td>\n",
       "      <td>0</td>\n",
       "      <td>0</td>\n",
       "      <td>0</td>\n",
       "      <td>0</td>\n",
       "    </tr>\n",
       "    <tr>\n",
       "      <th>1</th>\n",
       "      <td>0</td>\n",
       "      <td>0</td>\n",
       "      <td>0</td>\n",
       "      <td>0</td>\n",
       "      <td>0</td>\n",
       "      <td>0</td>\n",
       "      <td>0</td>\n",
       "      <td>0</td>\n",
       "      <td>0</td>\n",
       "      <td>0</td>\n",
       "      <td>...</td>\n",
       "      <td>0</td>\n",
       "      <td>0</td>\n",
       "      <td>0</td>\n",
       "      <td>0</td>\n",
       "      <td>0</td>\n",
       "      <td>0</td>\n",
       "      <td>0</td>\n",
       "      <td>0</td>\n",
       "      <td>0</td>\n",
       "      <td>0</td>\n",
       "    </tr>\n",
       "    <tr>\n",
       "      <th>2</th>\n",
       "      <td>0</td>\n",
       "      <td>0</td>\n",
       "      <td>0</td>\n",
       "      <td>0</td>\n",
       "      <td>0</td>\n",
       "      <td>0</td>\n",
       "      <td>0</td>\n",
       "      <td>0</td>\n",
       "      <td>0</td>\n",
       "      <td>1</td>\n",
       "      <td>...</td>\n",
       "      <td>0</td>\n",
       "      <td>0</td>\n",
       "      <td>0</td>\n",
       "      <td>0</td>\n",
       "      <td>0</td>\n",
       "      <td>0</td>\n",
       "      <td>0</td>\n",
       "      <td>0</td>\n",
       "      <td>0</td>\n",
       "      <td>0</td>\n",
       "    </tr>\n",
       "    <tr>\n",
       "      <th>3</th>\n",
       "      <td>0</td>\n",
       "      <td>0</td>\n",
       "      <td>0</td>\n",
       "      <td>0</td>\n",
       "      <td>0</td>\n",
       "      <td>0</td>\n",
       "      <td>0</td>\n",
       "      <td>0</td>\n",
       "      <td>0</td>\n",
       "      <td>0</td>\n",
       "      <td>...</td>\n",
       "      <td>0</td>\n",
       "      <td>0</td>\n",
       "      <td>0</td>\n",
       "      <td>0</td>\n",
       "      <td>0</td>\n",
       "      <td>0</td>\n",
       "      <td>0</td>\n",
       "      <td>0</td>\n",
       "      <td>0</td>\n",
       "      <td>0</td>\n",
       "    </tr>\n",
       "    <tr>\n",
       "      <th>4</th>\n",
       "      <td>0</td>\n",
       "      <td>0</td>\n",
       "      <td>0</td>\n",
       "      <td>0</td>\n",
       "      <td>0</td>\n",
       "      <td>0</td>\n",
       "      <td>0</td>\n",
       "      <td>0</td>\n",
       "      <td>0</td>\n",
       "      <td>0</td>\n",
       "      <td>...</td>\n",
       "      <td>0</td>\n",
       "      <td>0</td>\n",
       "      <td>0</td>\n",
       "      <td>0</td>\n",
       "      <td>0</td>\n",
       "      <td>0</td>\n",
       "      <td>0</td>\n",
       "      <td>0</td>\n",
       "      <td>0</td>\n",
       "      <td>0</td>\n",
       "    </tr>\n",
       "  </tbody>\n",
       "</table>\n",
       "<p>5 rows × 167 columns</p>\n",
       "</div>"
      ],
      "text/plain": [
       "   262349  address  ajax  api  application  architect  architecture  \\\n",
       "0       0        0     0    0            0          0             0   \n",
       "1       0        0     0    0            0          0             0   \n",
       "2       0        0     0    0            0          0             0   \n",
       "3       0        0     0    0            0          0             0   \n",
       "4       0        0     0    0            0          0             0   \n",
       "\n",
       "   associate  automate  automation  ...   verisys  virtualize  virtualized  \\\n",
       "0          0         0           0  ...         0           0            0   \n",
       "1          0         0           0  ...         0           0            0   \n",
       "2          0         0           1  ...         0           0            0   \n",
       "3          0         0           0  ...         0           0            0   \n",
       "4          0         0           0  ...         0           0            0   \n",
       "\n",
       "   voice  wb  web  work  xendesktop  xenserver  year  \n",
       "0      0   0    0     0           0          0     0  \n",
       "1      0   0    0     0           0          0     0  \n",
       "2      0   0    0     0           0          0     0  \n",
       "3      0   0    0     0           0          0     0  \n",
       "4      0   0    0     0           0          0     0  \n",
       "\n",
       "[5 rows x 167 columns]"
      ]
     },
     "execution_count": 18,
     "metadata": {},
     "output_type": "execute_result"
    }
   ],
   "source": [
    "dtm.head()"
   ]
  },
  {
   "cell_type": "markdown",
   "metadata": {
    "colab_type": "text",
    "id": "Zo1iH_UeY7_n"
   },
   "source": [
    "## 4) Visualize the most common word counts"
   ]
  },
  {
   "cell_type": "code",
   "execution_count": 19,
   "metadata": {
    "colab": {},
    "colab_type": "code",
    "id": "M5LB00uyZKV5"
   },
   "outputs": [],
   "source": [
    "from sklearn.decomposition import PCA\n",
    "\n",
    "def getWordVectors(words):\n",
    "    return [nlp(word).vector for word in words]\n",
    "\n",
    "words = flatten\n",
    "pca = PCA(n_components=2)\n",
    "pca.fit(getWordVectors(words))\n",
    "words_vecs_2d = pca.transform(getWordVectors(words))"
   ]
  },
  {
   "cell_type": "code",
   "execution_count": 20,
   "metadata": {},
   "outputs": [
    {
     "name": "stderr",
     "output_type": "stream",
     "text": [
      "/Users/lotta/.conda/envs/NLP/lib/python3.7/site-packages/matplotlib/backends/backend_agg.py:211: RuntimeWarning: Glyph 61623 missing from current font.\n",
      "  font.set_text(s, 0.0, flags=flags)\n",
      "/Users/lotta/.conda/envs/NLP/lib/python3.7/site-packages/matplotlib/backends/backend_agg.py:180: RuntimeWarning: Glyph 61623 missing from current font.\n",
      "  font.set_text(s, 0, flags=flags)\n"
     ]
    },
    {
     "data": {
      "image/png": "[encoded data removed]",
      "text/plain": [
       "<Figure size 720x720 with 1 Axes>"
      ]
     },
     "metadata": {
      "needs_background": "light"
     },
     "output_type": "display_data"
    }
   ],
   "source": [
    "# create a nice big plot \n",
    "plt.figure(figsize=(10,10))\n",
    "\n",
    "# plot the scatter plot of where the words will be\n",
    "plt.scatter(words_vecs_2d[:,0], words_vecs_2d[:,1])\n",
    "\n",
    "# for each word and coordinate pair: draw the text on the plot\n",
    "for word, coord in zip(words, words_vecs_2d):\n",
    "    x, y = coord\n",
    "    plt.text(x, y, word, size=10)\n",
    "\n",
    "# show the plot\n",
    "plt.show()"
   ]
  },
  {
   "cell_type": "markdown",
   "metadata": {
    "colab_type": "text",
    "id": "bwFsTqrVZMYi"
   },
   "source": [
    "## 5) Use Scikit-Learn's tfidfVectorizer to get a TF-IDF feature matrix"
   ]
  },
  {
   "cell_type": "code",
   "execution_count": 25,
   "metadata": {},
   "outputs": [],
   "source": [
    "def tokenize(document):\n",
    "    doc = nlp(document)\n",
    "    return [token.lemma_.strip() for token in doc if (token.is_stop != True) and (token.is_punct != True)]"
   ]
  },
  {
   "cell_type": "code",
   "execution_count": 26,
   "metadata": {
    "colab": {},
    "colab_type": "code",
    "id": "-gx2gZCbl5Np"
   },
   "outputs": [
    {
     "data": {
      "text/html": [
       "<div>\n",
       "<style scoped>\n",
       "    .dataframe tbody tr th:only-of-type {\n",
       "        vertical-align: middle;\n",
       "    }\n",
       "\n",
       "    .dataframe tbody tr th {\n",
       "        vertical-align: top;\n",
       "    }\n",
       "\n",
       "    .dataframe thead th {\n",
       "        text-align: right;\n",
       "    }\n",
       "</style>\n",
       "<table border=\"1\" class=\"dataframe\">\n",
       "  <thead>\n",
       "    <tr style=\"text-align: right;\">\n",
       "      <th></th>\n",
       "      <th>1</th>\n",
       "      <th>1 helpdesk</th>\n",
       "      <th>analyst</th>\n",
       "      <th>architect</th>\n",
       "      <th>architect engineer</th>\n",
       "      <th>associate</th>\n",
       "      <th>city</th>\n",
       "      <th>city ut</th>\n",
       "      <th>cloud</th>\n",
       "      <th>cloud engineer</th>\n",
       "      <th>...</th>\n",
       "      <th>tier</th>\n",
       "      <th>tier 1</th>\n",
       "      <th>ut</th>\n",
       "      <th>virtualization</th>\n",
       "      <th>virtualization architect</th>\n",
       "      <th>voice</th>\n",
       "      <th>wan</th>\n",
       "      <th>wan systems</th>\n",
       "      <th>west</th>\n",
       "      <th>west salt</th>\n",
       "    </tr>\n",
       "  </thead>\n",
       "  <tbody>\n",
       "    <tr>\n",
       "      <th>0</th>\n",
       "      <td>0.000000</td>\n",
       "      <td>0.000000</td>\n",
       "      <td>0.0</td>\n",
       "      <td>0.492855</td>\n",
       "      <td>0.492855</td>\n",
       "      <td>0.0</td>\n",
       "      <td>0.0</td>\n",
       "      <td>0.0</td>\n",
       "      <td>0.0</td>\n",
       "      <td>0.0</td>\n",
       "      <td>...</td>\n",
       "      <td>0.000000</td>\n",
       "      <td>0.000000</td>\n",
       "      <td>0.0</td>\n",
       "      <td>0.492855</td>\n",
       "      <td>0.492855</td>\n",
       "      <td>0.000000</td>\n",
       "      <td>0.0</td>\n",
       "      <td>0.0</td>\n",
       "      <td>0.0</td>\n",
       "      <td>0.0</td>\n",
       "    </tr>\n",
       "    <tr>\n",
       "      <th>1</th>\n",
       "      <td>0.000000</td>\n",
       "      <td>0.000000</td>\n",
       "      <td>0.0</td>\n",
       "      <td>0.000000</td>\n",
       "      <td>0.000000</td>\n",
       "      <td>0.0</td>\n",
       "      <td>0.0</td>\n",
       "      <td>0.0</td>\n",
       "      <td>0.0</td>\n",
       "      <td>0.0</td>\n",
       "      <td>...</td>\n",
       "      <td>0.000000</td>\n",
       "      <td>0.000000</td>\n",
       "      <td>0.0</td>\n",
       "      <td>0.000000</td>\n",
       "      <td>0.000000</td>\n",
       "      <td>0.000000</td>\n",
       "      <td>0.0</td>\n",
       "      <td>0.0</td>\n",
       "      <td>0.0</td>\n",
       "      <td>0.0</td>\n",
       "    </tr>\n",
       "    <tr>\n",
       "      <th>2</th>\n",
       "      <td>0.000000</td>\n",
       "      <td>0.000000</td>\n",
       "      <td>0.0</td>\n",
       "      <td>0.000000</td>\n",
       "      <td>0.000000</td>\n",
       "      <td>0.0</td>\n",
       "      <td>0.0</td>\n",
       "      <td>0.0</td>\n",
       "      <td>0.0</td>\n",
       "      <td>0.0</td>\n",
       "      <td>...</td>\n",
       "      <td>0.000000</td>\n",
       "      <td>0.000000</td>\n",
       "      <td>0.0</td>\n",
       "      <td>0.000000</td>\n",
       "      <td>0.000000</td>\n",
       "      <td>0.000000</td>\n",
       "      <td>0.0</td>\n",
       "      <td>0.0</td>\n",
       "      <td>0.0</td>\n",
       "      <td>0.0</td>\n",
       "    </tr>\n",
       "    <tr>\n",
       "      <th>3</th>\n",
       "      <td>0.000000</td>\n",
       "      <td>0.000000</td>\n",
       "      <td>0.0</td>\n",
       "      <td>0.000000</td>\n",
       "      <td>0.000000</td>\n",
       "      <td>0.0</td>\n",
       "      <td>0.0</td>\n",
       "      <td>0.0</td>\n",
       "      <td>0.0</td>\n",
       "      <td>0.0</td>\n",
       "      <td>...</td>\n",
       "      <td>0.000000</td>\n",
       "      <td>0.000000</td>\n",
       "      <td>0.0</td>\n",
       "      <td>0.000000</td>\n",
       "      <td>0.000000</td>\n",
       "      <td>0.421353</td>\n",
       "      <td>0.0</td>\n",
       "      <td>0.0</td>\n",
       "      <td>0.0</td>\n",
       "      <td>0.0</td>\n",
       "    </tr>\n",
       "    <tr>\n",
       "      <th>4</th>\n",
       "      <td>0.404331</td>\n",
       "      <td>0.404331</td>\n",
       "      <td>0.0</td>\n",
       "      <td>0.000000</td>\n",
       "      <td>0.000000</td>\n",
       "      <td>0.0</td>\n",
       "      <td>0.0</td>\n",
       "      <td>0.0</td>\n",
       "      <td>0.0</td>\n",
       "      <td>0.0</td>\n",
       "      <td>...</td>\n",
       "      <td>0.404331</td>\n",
       "      <td>0.404331</td>\n",
       "      <td>0.0</td>\n",
       "      <td>0.000000</td>\n",
       "      <td>0.000000</td>\n",
       "      <td>0.000000</td>\n",
       "      <td>0.0</td>\n",
       "      <td>0.0</td>\n",
       "      <td>0.0</td>\n",
       "      <td>0.0</td>\n",
       "    </tr>\n",
       "  </tbody>\n",
       "</table>\n",
       "<p>5 rows × 73 columns</p>\n",
       "</div>"
      ],
      "text/plain": [
       "          1  1 helpdesk  analyst  architect  architect engineer  associate  \\\n",
       "0  0.000000    0.000000      0.0   0.492855            0.492855        0.0   \n",
       "1  0.000000    0.000000      0.0   0.000000            0.000000        0.0   \n",
       "2  0.000000    0.000000      0.0   0.000000            0.000000        0.0   \n",
       "3  0.000000    0.000000      0.0   0.000000            0.000000        0.0   \n",
       "4  0.404331    0.404331      0.0   0.000000            0.000000        0.0   \n",
       "\n",
       "   city  city ut  cloud  cloud engineer    ...          tier    tier 1   ut  \\\n",
       "0   0.0      0.0    0.0             0.0    ...      0.000000  0.000000  0.0   \n",
       "1   0.0      0.0    0.0             0.0    ...      0.000000  0.000000  0.0   \n",
       "2   0.0      0.0    0.0             0.0    ...      0.000000  0.000000  0.0   \n",
       "3   0.0      0.0    0.0             0.0    ...      0.000000  0.000000  0.0   \n",
       "4   0.0      0.0    0.0             0.0    ...      0.404331  0.404331  0.0   \n",
       "\n",
       "   virtualization  virtualization architect     voice  wan  wan systems  west  \\\n",
       "0        0.492855                  0.492855  0.000000  0.0          0.0   0.0   \n",
       "1        0.000000                  0.000000  0.000000  0.0          0.0   0.0   \n",
       "2        0.000000                  0.000000  0.000000  0.0          0.0   0.0   \n",
       "3        0.000000                  0.000000  0.421353  0.0          0.0   0.0   \n",
       "4        0.000000                  0.000000  0.000000  0.0          0.0   0.0   \n",
       "\n",
       "   west salt  \n",
       "0        0.0  \n",
       "1        0.0  \n",
       "2        0.0  \n",
       "3        0.0  \n",
       "4        0.0  \n",
       "\n",
       "[5 rows x 73 columns]"
      ]
     },
     "execution_count": 26,
     "metadata": {},
     "output_type": "execute_result"
    }
   ],
   "source": [
    "from sklearn.feature_extraction.text import TfidfVectorizer\n",
    "\n",
    "tfidf = TfidfVectorizer(tokenizer=tokenize, min_df=0.025, max_df=.98, ngram_range=(1,2))\n",
    "\n",
    "dtm = tfidf.fit_transform(data)\n",
    "\n",
    "dtm = pd.DataFrame(dtm.todense(), columns=tfidf.get_feature_names())\n",
    "\n",
    "dtm.head()"
   ]
  },
  {
   "cell_type": "markdown",
   "metadata": {},
   "source": [
    "## 6) Create a NearestNeighbor Model. Write the description of your ideal datascience job and query your job listings. "
   ]
  },
  {
   "cell_type": "code",
   "execution_count": 27,
   "metadata": {
    "collapsed": false,
    "inputHidden": false,
    "jupyter": {
     "outputs_hidden": false
    },
    "outputHidden": false
   },
   "outputs": [
    {
     "data": {
      "text/plain": [
       "NearestNeighbors(algorithm='kd_tree', leaf_size=30, metric='minkowski',\n",
       "                 metric_params=None, n_jobs=None, n_neighbors=5, p=2,\n",
       "                 radius=1.0)"
      ]
     },
     "execution_count": 27,
     "metadata": {},
     "output_type": "execute_result"
    }
   ],
   "source": [
    "from sklearn.neighbors import NearestNeighbors\n",
    "\n",
    "\n",
    "nn = NearestNeighbors(n_neighbors=5, algorithm='kd_tree')\n",
    "nn.fit(dtm)"
   ]
  },
  {
   "cell_type": "code",
   "execution_count": 28,
   "metadata": {},
   "outputs": [
    {
     "data": {
      "text/plain": [
       "(array([[0.        , 1.37207177, 1.37207177, 1.37207177, 1.38422839]]),\n",
       " array([[ 0, 11,  7,  9,  6]]))"
      ]
     },
     "execution_count": 28,
     "metadata": {},
     "output_type": "execute_result"
    }
   ],
   "source": [
    "nn.kneighbors([dtm.iloc[0].values])"
   ]
  },
  {
   "cell_type": "code",
   "execution_count": 29,
   "metadata": {},
   "outputs": [],
   "source": [
    "exampleSummary = [ \"\"\"\n",
    "Software engineer with skills in Java, Go, and C++ \n",
    "\"\"\"]"
   ]
  },
  {
   "cell_type": "code",
   "execution_count": 30,
   "metadata": {},
   "outputs": [],
   "source": [
    "new = tfidf.transform(exampleSummary)"
   ]
  },
  {
   "cell_type": "code",
   "execution_count": 31,
   "metadata": {},
   "outputs": [
    {
     "data": {
      "text/plain": [
       "(array([[0.        , 1.22004723, 1.35143624, 1.35143624, 1.35143624]]),\n",
       " array([[ 6,  5, 11,  9,  7]]))"
      ]
     },
     "execution_count": 31,
     "metadata": {},
     "output_type": "execute_result"
    }
   ],
   "source": [
    "nn.kneighbors(new.todense())"
   ]
  },
  {
   "cell_type": "code",
   "execution_count": 36,
   "metadata": {},
   "outputs": [
    {
     "data": {
      "text/plain": [
       "'Cloud Engineer'"
      ]
     },
     "execution_count": 36,
     "metadata": {},
     "output_type": "execute_result"
    }
   ],
   "source": [
    "data[7]"
   ]
  },
  {
   "cell_type": "markdown",
   "metadata": {
    "colab_type": "text",
    "id": "FiDfTWceoRkH"
   },
   "source": [
    "## Stretch Goals\n",
    "\n",
    " - Try different visualizations for words and frequencies - what story do you want to tell with the data?\n",
    " - Scrape Job Listings for the job title \"Data Analyst\". How do these differ from Data Scientist Job Listings\n",
    " - Try and identify requirements for experience specific technologies that are asked for in the job listings. How are those distributed among the job listings?\n",
    " - Use a clustering algorithm to cluster documents by their most important terms. Do the clusters reveal any common themes?\n",
    "  - **Hint:** K-means might not be the best algorithm for this. Do a little bit of research to see what might be good for this. Also, remember that algorithms that depend on Euclidean distance break down with high dimensional data.\n",
    " - Create a labeled dataset - which jobs will you apply for? Train a model to select the jobs you are most likely to apply for. :) "
   ]
  }
 ],
 "metadata": {
  "colab": {
   "collapsed_sections": [],
   "name": "LS_DS_422_BOW_Assignment.ipynb",
   "provenance": [],
   "version": "0.3.2"
  },
  "kernel_info": {
   "name": "python3"
  },
  "kernelspec": {
   "display_name": "Python 3",
   "language": "python",
   "name": "python3"
  },
  "language_info": {
   "codemirror_mode": {
    "name": "ipython",
    "version": 3
   },
   "file_extension": ".py",
   "mimetype": "text/x-python",
   "name": "python",
   "nbconvert_exporter": "python",
   "pygments_lexer": "ipython3",
   "version": "3.7.4"
  },
  "nteract": {
   "version": "0.14.3"
  }
 },
 "nbformat": 4,
 "nbformat_minor": 4
}
