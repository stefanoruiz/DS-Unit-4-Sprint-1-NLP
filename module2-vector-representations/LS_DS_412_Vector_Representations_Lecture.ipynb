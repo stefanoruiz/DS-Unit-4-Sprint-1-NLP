{
 "cells": [
  {
   "cell_type": "markdown",
   "metadata": {},
   "source": [
    "Lambda School Data Science\n",
    "\n",
    "*Unit 4, Sprint 1, Module 2*\n",
    "\n",
    "---\n",
    "\n",
    "# Vector Representations (Prepare)\n",
    "\n",
    "\n",
    "As we learned yesterday, machines cannot intrepret raw text. We need to transform that text into something we/machines can more readily analyze. Yesterday, we did simple counts of counts to summarize the content of Amazon reviews. Today, we'll extend those concepts to talk about vector representations such as Bag of Words (BoW) and word embedding models. We'll use those representations for search, visualization, and prepare for our classification day tomorrow. \n",
    "\n",
    "Processing text data to prepare it for maching learning models often means translating the information from documents into a numerical format. Bag-of-Words approaches (sometimes referred to as Frequency-Based word embeddings) accomplish this by \"vectorizing\" tokenized documents. This is done by representing each document as a row in a dataframe and creating a column for each unique word in the corpora (group of documents). The presence or lack of a given word in a document is then represented either as a raw count of how many times a given word appears in a document (CountVectorizer) or as that word's TF-IDF score (TfidfVectorizer).\n",
    "\n",
    "On the python side, we will be focusing on `sklearn` and `spacy` today.  \n",
    "\n",
    "## Case Study\n",
    "\n",
    "We're going to pretend we're on the datascience team at the BBC. We want to recommend articles to visiters to on the BBC website based on the article they just read. Our team wants \n",
    "\n",
    "**Dataset:**\n",
    "\n",
    "[D. Greene and P. Cunningham. \"Practical Solutions to the Problem of Diagonal Dominance in Kernel Document Clustering\", Proc. ICML 2006.](http://mlg.ucd.ie/datasets/bbc.html)\n",
    "*Please note that the dataset has been sampled down to tech articles only.* \n",
    "\n",
    "## Learning Objectives\n",
    "* <a href=\"#p1\">Part 1</a>: Represent a document as a vector\n",
    "* <a href=\"#p2\">Part 2</a>: Query Documents by Similarity\n",
    "* <a href=\"#p3\">Part 3</a>: Apply word embedding models to create document vectors"
   ]
  },
  {
   "cell_type": "markdown",
   "metadata": {},
   "source": [
    "# Represent a document as a vector (Learn)\n",
    "<a id=\"p1\"></a>"
   ]
  },
  {
   "cell_type": "markdown",
   "metadata": {},
   "source": [
    "## Overview\n",
    "\n",
    "In this section, we are going to create Document Term Matrices (DTM). Each column represents a word. Each row represents a document. The value in each cell can be range of different things. The most traditional: counts of appearences of words, does the word appear at all (binary), and term-frequency inverse-document frequence (TF-IDF). \n",
    "\n",
    "**Discussion:** Don't we loose all the context and grammer if we do this? So Why does it work?"
   ]
  },
  {
   "cell_type": "markdown",
   "metadata": {
    "toc-hr-collapsed": true
   },
   "source": [
    "## Follow Along"
   ]
  },
  {
   "cell_type": "code",
   "execution_count": 2,
   "metadata": {},
   "outputs": [
    {
     "name": "stdout",
     "output_type": "stream",
     "text": [
      "Collecting package metadata (current_repodata.json): done\n",
      "Solving environment: done\n",
      "\n",
      "# All requested packages already installed.\n",
      "\n",
      "\n",
      "Note: you may need to restart the kernel to use updated packages.\n"
     ]
    }
   ],
   "source": [
    "conda install spacy -y"
   ]
  },
  {
   "cell_type": "code",
   "execution_count": 1,
   "metadata": {},
   "outputs": [],
   "source": [
    "\"\"\" Import Statements \"\"\"\n",
    "\n",
    "# Classics\n",
    "import pandas as pd\n",
    "import seaborn as sns\n",
    "import matplotlib.pyplot as plt\n",
    "\n",
    "from sklearn.feature_extraction.text import CountVectorizer, TfidfVectorizer\n",
    "from sklearn.metrics.pairwise import cosine_similarity\n",
    "from sklearn.neighbors import NearestNeighbors\n",
    "from sklearn.decomposition import PCA\n",
    "\n",
    "import spacy\n",
    "nlp = spacy.load(\"en_core_web_lg\")"
   ]
  },
  {
   "cell_type": "markdown",
   "metadata": {},
   "source": [
    "**Warm Up (_3 Minutes_)**\n",
    "\n",
    "Extract the tokens from this sentence using Spacy. Text is from [OpenAI](https://openai.com/blog/better-language-models/)"
   ]
  },
  {
   "cell_type": "code",
   "execution_count": 2,
   "metadata": {},
   "outputs": [],
   "source": [
    "text = \"We created a new dataset which emphasizes diversity of content, by scraping content from the Internet. In order to preserve document quality, we used only pages which have been curated/filtered by humans—specifically, we used outbound links from Reddit which received at least 3 karma. This can be thought of as a heuristic indicator for whether other users found the link interesting (whether educational or funny), leading to higher data quality than other similar datasets, such as CommonCrawl.\""
   ]
  },
  {
   "cell_type": "code",
   "execution_count": 3,
   "metadata": {},
   "outputs": [
    {
     "name": "stdout",
     "output_type": "stream",
     "text": [
      "['create', 'new', 'dataset', 'emphasize', 'diversity', 'content', 'scrape', 'content', 'internet', 'order', 'preserve', 'document', 'quality', 'page', 'curate', 'filter', 'human', 'specifically', 'outbound', 'link', 'Reddit', 'receive', '3', 'karma', 'think', 'heuristic', 'indicator', 'user', 'find', 'link', 'interesting', 'educational', 'funny', 'lead', 'high', 'datum', 'quality', 'similar', 'dataset', 'CommonCrawl']\n"
     ]
    }
   ],
   "source": [
    "doc = nlp(text)\n",
    "\n",
    "print([token.lemma_ for token in doc if (token.is_stop != True) and (token.is_punct != True)])"
   ]
  },
  {
   "cell_type": "code",
   "execution_count": 4,
   "metadata": {},
   "outputs": [
    {
     "data": {
      "text/plain": [
       "[We,\n",
       " a new dataset,\n",
       " diversity,\n",
       " content,\n",
       " content,\n",
       " the Internet,\n",
       " order,\n",
       " document quality,\n",
       " we,\n",
       " only pages,\n",
       " humans,\n",
       " we,\n",
       " outbound links,\n",
       " Reddit,\n",
       " at least 3 karma,\n",
       " a heuristic indicator,\n",
       " other users,\n",
       " the link,\n",
       " higher data quality,\n",
       " other similar datasets,\n",
       " CommonCrawl]"
      ]
     },
     "execution_count": 4,
     "metadata": {},
     "output_type": "execute_result"
    }
   ],
   "source": [
    "list(doc.noun_chunks)"
   ]
  },
  {
   "cell_type": "code",
   "execution_count": 5,
   "metadata": {},
   "outputs": [],
   "source": [
    "import os \n",
    "def gather_data(filefolder):\n",
    "    \"\"\" Produces List of Documents from a Directory\n",
    "    \n",
    "    filefolder (str): a path of .txt files\n",
    "    \n",
    "    returns list of strings \n",
    "    \"\"\"\n",
    "    \n",
    "    data = []\n",
    "    \n",
    "    files = os.listdir(filefolder) # Causes variation across operating systems. \n",
    "    \n",
    "    for article in files: \n",
    "        \n",
    "        path = os.path.join(filefolder, article)\n",
    "                    \n",
    "        if  path[-3:] == 'txt':\n",
    "            with open(path, 'rb') as f:\n",
    "                data.append(f.read())\n",
    "    \n",
    "    return data"
   ]
  },
  {
   "cell_type": "code",
   "execution_count": 6,
   "metadata": {},
   "outputs": [],
   "source": [
    "data = gather_data('./data')"
   ]
  },
  {
   "cell_type": "code",
   "execution_count": 7,
   "metadata": {},
   "outputs": [
    {
     "data": {
      "text/plain": [
       "b'Mobiles rack up 20 years of use\\n\\nMobile phones in the UK are celebrating their 20th anniversary this weekend.\\n\\nBritain\\'s first mobile phone call was made across the Vodafone network on 1 January 1985 by veteran comedian Ernie Wise. In the 20 years since that day, mobile phones have become an integral part of modern life and now almost 90% of Britons own a handset. Mobiles have become so popular that many people use their handset as their only phone and rarely use a landline.\\n\\nThe first ever call over a portable phone was made in 1973 in New York but it took 10 years for the first commercial mobile service to be launched. The UK was not far behind the rest of the world in setting up networks in 1985 that let people make calls while they walked. The first call was made from St Katherine\\'s dock to Vodafone\\'s head office in Newbury which at the time was over a curry house. For the first nine days of 1985 Vodafone was the only firm with a mobile network in the UK. Then on 10 January Cellnet (now O2) launched its service. Mike Caudwell, spokesman for Vodafone, said that when phones were launched they were the size of a briefcase, cost about \\xc2\\xa32,000 and had a battery life of little more than 20 minutes.\\n\\n\"Despite that they were hugely popular in the mid-80s,\" he said. \"They became a yuppy must-have and a status symbol among young wealthy business folk.\" This was also despite the fact that the phones used analogue radio signals to communicate which made them very easy to eavesdrop on. He said it took Vodafone almost nine years to rack up its first million customers but only 18 months to get the second million. \"It\\'s very easy to forget that in 1983 when we put the bid document in we were forecasting that the total market would be two million people,\" he said. \"Cellnet was forecasting half that.\" Now Vodafone has 14m customers in the UK alone. Cellnet and Vodafone were the only mobile phone operators in the UK until 1993 when One2One (now T-Mobile) was launched. Orange had its UK launch in 1994. Both newcomers operated digital mobile networks and now all operators use this technology. The analogue spectrum for the old phones has been retired. Called Global System for Mobiles (GSM) this is now the most widely used phone technology on the planet and is used to help more than 1.2 billion people make calls. Mr Caudwell said the advent of digital technology also helped to introduce all those things, such as text messaging and roaming that have made mobiles so popular.\\n'"
      ]
     },
     "execution_count": 7,
     "metadata": {},
     "output_type": "execute_result"
    }
   ],
   "source": [
    "data[0]"
   ]
  },
  {
   "cell_type": "markdown",
   "metadata": {},
   "source": [
    "### CountVectorizer"
   ]
  },
  {
   "cell_type": "code",
   "execution_count": 8,
   "metadata": {},
   "outputs": [],
   "source": [
    "from sklearn.feature_extraction.text import CountVectorizer\n",
    "\n",
    "# list of text documents\n",
    "text = [\"We created a new dataset which emphasizes diversity of content, by scraping content from the Internet.\",\" In order to preserve document quality, we used only pages which have been curated/filtered by humans—specifically, we used outbound links from Reddit which received at least 3 karma.\",\" This can be thought of as a heuristic indicator for whether other users found the link interesting (whether educational or funny), leading to higher data quality than other similar datasets, such as CommonCrawl.\"]\n",
    "\n",
    "# create the transformer\n",
    "vect = CountVectorizer()\n",
    "\n",
    "# tokenize and build vocab\n",
    "vect.fit(text) # Fit then transform. \n",
    "\n",
    "# transform text\n",
    "dtm = vect.transform(text)\n",
    "\n",
    "# Create a Vocabulary\n",
    "# The vocabulary establishes all of the possible words that we might use.\n",
    "\n",
    "# The vocabulary dictionary does not represent the counts of words!!\n"
   ]
  },
  {
   "cell_type": "code",
   "execution_count": 9,
   "metadata": {},
   "outputs": [
    {
     "name": "stdout",
     "output_type": "stream",
     "text": [
      "['as', 'at', 'be', 'been', 'by', 'can', 'commoncrawl', 'content', 'created', 'curated', 'data', 'dataset', 'datasets', 'diversity', 'document', 'educational', 'emphasizes', 'filtered', 'for', 'found', 'from', 'funny', 'have', 'heuristic', 'higher', 'humans', 'in', 'indicator', 'interesting', 'internet', 'karma', 'leading', 'least', 'link', 'links', 'new', 'of', 'only', 'or', 'order', 'other', 'outbound', 'pages', 'preserve', 'quality', 'received', 'reddit', 'scraping', 'similar', 'specifically', 'such', 'than', 'the', 'this', 'thought', 'to', 'used', 'users', 'we', 'whether', 'which']\n"
     ]
    }
   ],
   "source": [
    "print(vect.get_feature_names())"
   ]
  },
  {
   "cell_type": "code",
   "execution_count": 10,
   "metadata": {},
   "outputs": [
    {
     "data": {
      "text/plain": [
       "['We created a new dataset which emphasizes diversity of content, by scraping content from the Internet.',\n",
       " ' In order to preserve document quality, we used only pages which have been curated/filtered by humans—specifically, we used outbound links from Reddit which received at least 3 karma.',\n",
       " ' This can be thought of as a heuristic indicator for whether other users found the link interesting (whether educational or funny), leading to higher data quality than other similar datasets, such as CommonCrawl.']"
      ]
     },
     "execution_count": 10,
     "metadata": {},
     "output_type": "execute_result"
    }
   ],
   "source": [
    "text[:25]"
   ]
  },
  {
   "cell_type": "code",
   "execution_count": 11,
   "metadata": {},
   "outputs": [
    {
     "name": "stdout",
     "output_type": "stream",
     "text": [
      "  (0, 4)\t1\n",
      "  (0, 7)\t2\n",
      "  (0, 8)\t1\n",
      "  (0, 11)\t1\n",
      "  (0, 13)\t1\n",
      "  (0, 16)\t1\n",
      "  (0, 20)\t1\n",
      "  (0, 29)\t1\n",
      "  (0, 35)\t1\n",
      "  (0, 36)\t1\n",
      "  (0, 47)\t1\n",
      "  (0, 52)\t1\n",
      "  (0, 58)\t1\n",
      "  (0, 60)\t1\n",
      "  (1, 1)\t1\n",
      "  (1, 3)\t1\n",
      "  (1, 4)\t1\n",
      "  (1, 9)\t1\n",
      "  (1, 14)\t1\n",
      "  (1, 17)\t1\n",
      "  (1, 20)\t1\n",
      "  (1, 22)\t1\n",
      "  (1, 25)\t1\n",
      "  (1, 26)\t1\n",
      "  (1, 30)\t1\n",
      "  :\t:\n",
      "  (2, 10)\t1\n",
      "  (2, 12)\t1\n",
      "  (2, 15)\t1\n",
      "  (2, 18)\t1\n",
      "  (2, 19)\t1\n",
      "  (2, 21)\t1\n",
      "  (2, 23)\t1\n",
      "  (2, 24)\t1\n",
      "  (2, 27)\t1\n",
      "  (2, 28)\t1\n",
      "  (2, 31)\t1\n",
      "  (2, 33)\t1\n",
      "  (2, 36)\t1\n",
      "  (2, 38)\t1\n",
      "  (2, 40)\t2\n",
      "  (2, 44)\t1\n",
      "  (2, 48)\t1\n",
      "  (2, 50)\t1\n",
      "  (2, 51)\t1\n",
      "  (2, 52)\t1\n",
      "  (2, 53)\t1\n",
      "  (2, 54)\t1\n",
      "  (2, 55)\t1\n",
      "  (2, 57)\t1\n",
      "  (2, 59)\t2\n"
     ]
    }
   ],
   "source": [
    "print(dtm)"
   ]
  },
  {
   "cell_type": "code",
   "execution_count": 12,
   "metadata": {},
   "outputs": [],
   "source": [
    "# Dealing with Sparse Matrix\n"
   ]
  },
  {
   "cell_type": "code",
   "execution_count": 13,
   "metadata": {},
   "outputs": [],
   "source": [
    "# Get Word Counts for each document\n",
    "dtm = pd.DataFrame(dtm.todense(), columns=vect.get_feature_names())"
   ]
  },
  {
   "cell_type": "code",
   "execution_count": 14,
   "metadata": {},
   "outputs": [
    {
     "data": {
      "text/plain": [
       "b'Mobiles rack up 20 years of use\\n\\nMobile phones in the UK are celebrating their 20th anniversary this weekend.\\n\\nBritain\\'s first mobile phone call was made across the Vodafone network on 1 January 1985 by veteran comedian Ernie Wise. In the 20 years since that day, mobile phones have become an integral part of modern life and now almost 90% of Britons own a handset. Mobiles have become so popular that many people use their handset as their only phone and rarely use a landline.\\n\\nThe first ever call over a portable phone was made in 1973 in New York but it took 10 years for the first commercial mobile service to be launched. The UK was not far behind the rest of the world in setting up networks in 1985 that let people make calls while they walked. The first call was made from St Katherine\\'s dock to Vodafone\\'s head office in Newbury which at the time was over a curry house. For the first nine days of 1985 Vodafone was the only firm with a mobile network in the UK. Then on 10 January Cellnet (now O2) launched its service. Mike Caudwell, spokesman for Vodafone, said that when phones were launched they were the size of a briefcase, cost about \\xc2\\xa32,000 and had a battery life of little more than 20 minutes.\\n\\n\"Despite that they were hugely popular in the mid-80s,\" he said. \"They became a yuppy must-have and a status symbol among young wealthy business folk.\" This was also despite the fact that the phones used analogue radio signals to communicate which made them very easy to eavesdrop on. He said it took Vodafone almost nine years to rack up its first million customers but only 18 months to get the second million. \"It\\'s very easy to forget that in 1983 when we put the bid document in we were forecasting that the total market would be two million people,\" he said. \"Cellnet was forecasting half that.\" Now Vodafone has 14m customers in the UK alone. Cellnet and Vodafone were the only mobile phone operators in the UK until 1993 when One2One (now T-Mobile) was launched. Orange had its UK launch in 1994. Both newcomers operated digital mobile networks and now all operators use this technology. The analogue spectrum for the old phones has been retired. Called Global System for Mobiles (GSM) this is now the most widely used phone technology on the planet and is used to help more than 1.2 billion people make calls. Mr Caudwell said the advent of digital technology also helped to introduce all those things, such as text messaging and roaming that have made mobiles so popular.\\n'"
      ]
     },
     "execution_count": 14,
     "metadata": {},
     "output_type": "execute_result"
    }
   ],
   "source": [
    "data[0]"
   ]
  },
  {
   "cell_type": "markdown",
   "metadata": {},
   "source": [
    "**Three Minute Challenge:** \n",
    "* Apply CountVectorizer to our BBC Data\n",
    "* Store results in a dataframe called `dtm`\n",
    "* Extra Challenge - Try to Customize CountVectorizer with Spacy Processing"
   ]
  },
  {
   "cell_type": "code",
   "execution_count": 15,
   "metadata": {},
   "outputs": [],
   "source": [
    "from sklearn.feature_extraction.text import CountVectorizer\n",
    "\n",
    "vect = CountVectorizer(stop_words='english')\n",
    "\n",
    "# Learn the vocabulary\n",
    "vect.fit(data)\n",
    "\n",
    "dtm = vect.transform(data)\n"
   ]
  },
  {
   "cell_type": "code",
   "execution_count": 16,
   "metadata": {},
   "outputs": [],
   "source": [
    "dtm = pd.DataFrame(dtm.todense(), columns=vect.get_feature_names())"
   ]
  },
  {
   "cell_type": "code",
   "execution_count": 17,
   "metadata": {},
   "outputs": [
    {
     "data": {
      "text/html": [
       "<div>\n",
       "<style scoped>\n",
       "    .dataframe tbody tr th:only-of-type {\n",
       "        vertical-align: middle;\n",
       "    }\n",
       "\n",
       "    .dataframe tbody tr th {\n",
       "        vertical-align: top;\n",
       "    }\n",
       "\n",
       "    .dataframe thead th {\n",
       "        text-align: right;\n",
       "    }\n",
       "</style>\n",
       "<table border=\"1\" class=\"dataframe\">\n",
       "  <thead>\n",
       "    <tr style=\"text-align: right;\">\n",
       "      <th></th>\n",
       "      <th>00</th>\n",
       "      <th>000</th>\n",
       "      <th>000s</th>\n",
       "      <th>0051</th>\n",
       "      <th>007</th>\n",
       "      <th>01</th>\n",
       "      <th>028</th>\n",
       "      <th>04m</th>\n",
       "      <th>05</th>\n",
       "      <th>0530</th>\n",
       "      <th>...</th>\n",
       "      <th>zip</th>\n",
       "      <th>zodiac</th>\n",
       "      <th>zombie</th>\n",
       "      <th>zombies</th>\n",
       "      <th>zone</th>\n",
       "      <th>zonealarm</th>\n",
       "      <th>zones</th>\n",
       "      <th>zoom</th>\n",
       "      <th>zooms</th>\n",
       "      <th>zurich</th>\n",
       "    </tr>\n",
       "  </thead>\n",
       "  <tbody>\n",
       "    <tr>\n",
       "      <th>0</th>\n",
       "      <td>0</td>\n",
       "      <td>1</td>\n",
       "      <td>0</td>\n",
       "      <td>0</td>\n",
       "      <td>0</td>\n",
       "      <td>0</td>\n",
       "      <td>0</td>\n",
       "      <td>0</td>\n",
       "      <td>0</td>\n",
       "      <td>0</td>\n",
       "      <td>...</td>\n",
       "      <td>0</td>\n",
       "      <td>0</td>\n",
       "      <td>0</td>\n",
       "      <td>0</td>\n",
       "      <td>0</td>\n",
       "      <td>0</td>\n",
       "      <td>0</td>\n",
       "      <td>0</td>\n",
       "      <td>0</td>\n",
       "      <td>0</td>\n",
       "    </tr>\n",
       "    <tr>\n",
       "      <th>1</th>\n",
       "      <td>0</td>\n",
       "      <td>0</td>\n",
       "      <td>0</td>\n",
       "      <td>0</td>\n",
       "      <td>0</td>\n",
       "      <td>0</td>\n",
       "      <td>0</td>\n",
       "      <td>0</td>\n",
       "      <td>0</td>\n",
       "      <td>0</td>\n",
       "      <td>...</td>\n",
       "      <td>0</td>\n",
       "      <td>0</td>\n",
       "      <td>0</td>\n",
       "      <td>0</td>\n",
       "      <td>0</td>\n",
       "      <td>0</td>\n",
       "      <td>0</td>\n",
       "      <td>0</td>\n",
       "      <td>0</td>\n",
       "      <td>0</td>\n",
       "    </tr>\n",
       "    <tr>\n",
       "      <th>2</th>\n",
       "      <td>0</td>\n",
       "      <td>3</td>\n",
       "      <td>0</td>\n",
       "      <td>0</td>\n",
       "      <td>0</td>\n",
       "      <td>0</td>\n",
       "      <td>0</td>\n",
       "      <td>0</td>\n",
       "      <td>0</td>\n",
       "      <td>0</td>\n",
       "      <td>...</td>\n",
       "      <td>0</td>\n",
       "      <td>0</td>\n",
       "      <td>0</td>\n",
       "      <td>0</td>\n",
       "      <td>0</td>\n",
       "      <td>0</td>\n",
       "      <td>0</td>\n",
       "      <td>0</td>\n",
       "      <td>0</td>\n",
       "      <td>0</td>\n",
       "    </tr>\n",
       "    <tr>\n",
       "      <th>3</th>\n",
       "      <td>0</td>\n",
       "      <td>0</td>\n",
       "      <td>0</td>\n",
       "      <td>0</td>\n",
       "      <td>0</td>\n",
       "      <td>0</td>\n",
       "      <td>0</td>\n",
       "      <td>0</td>\n",
       "      <td>0</td>\n",
       "      <td>0</td>\n",
       "      <td>...</td>\n",
       "      <td>0</td>\n",
       "      <td>0</td>\n",
       "      <td>0</td>\n",
       "      <td>0</td>\n",
       "      <td>0</td>\n",
       "      <td>0</td>\n",
       "      <td>0</td>\n",
       "      <td>0</td>\n",
       "      <td>0</td>\n",
       "      <td>0</td>\n",
       "    </tr>\n",
       "    <tr>\n",
       "      <th>4</th>\n",
       "      <td>0</td>\n",
       "      <td>0</td>\n",
       "      <td>0</td>\n",
       "      <td>0</td>\n",
       "      <td>0</td>\n",
       "      <td>0</td>\n",
       "      <td>0</td>\n",
       "      <td>0</td>\n",
       "      <td>0</td>\n",
       "      <td>0</td>\n",
       "      <td>...</td>\n",
       "      <td>0</td>\n",
       "      <td>0</td>\n",
       "      <td>0</td>\n",
       "      <td>0</td>\n",
       "      <td>0</td>\n",
       "      <td>0</td>\n",
       "      <td>0</td>\n",
       "      <td>0</td>\n",
       "      <td>0</td>\n",
       "      <td>0</td>\n",
       "    </tr>\n",
       "  </tbody>\n",
       "</table>\n",
       "<p>5 rows × 11820 columns</p>\n",
       "</div>"
      ],
      "text/plain": [
       "   00  000  000s  0051  007  01  028  04m  05  0530   ...    zip  zodiac  \\\n",
       "0   0    1     0     0    0   0    0    0   0     0   ...      0       0   \n",
       "1   0    0     0     0    0   0    0    0   0     0   ...      0       0   \n",
       "2   0    3     0     0    0   0    0    0   0     0   ...      0       0   \n",
       "3   0    0     0     0    0   0    0    0   0     0   ...      0       0   \n",
       "4   0    0     0     0    0   0    0    0   0     0   ...      0       0   \n",
       "\n",
       "   zombie  zombies  zone  zonealarm  zones  zoom  zooms  zurich  \n",
       "0       0        0     0          0      0     0      0       0  \n",
       "1       0        0     0          0      0     0      0       0  \n",
       "2       0        0     0          0      0     0      0       0  \n",
       "3       0        0     0          0      0     0      0       0  \n",
       "4       0        0     0          0      0     0      0       0  \n",
       "\n",
       "[5 rows x 11820 columns]"
      ]
     },
     "execution_count": 17,
     "metadata": {},
     "output_type": "execute_result"
    }
   ],
   "source": [
    "dtm.head()"
   ]
  },
  {
   "cell_type": "markdown",
   "metadata": {},
   "source": [
    "### TfidfVectorizer\n",
    "\n",
    "## Term Frequency - Inverse Document Frequency (TF-IDF)\n",
    "\n",
    "<center><img src=\"https://mungingdata.files.wordpress.com/2017/11/equation.png?w=430&h=336\" width=\"300\"></center>\n",
    "\n",
    "Term Frequency: Percentage of words in document for each word\n",
    "\n",
    "Document Frequency: A penalty for the word existing in a high number of documents.\n",
    "\n",
    "The purpose of TF-IDF is to find what is **unique** to each document. Because of this we will penalize the term frequencies of words that are common across all documents which will allow for each document's most different topics to rise to the top."
   ]
  },
  {
   "cell_type": "code",
   "execution_count": 18,
   "metadata": {},
   "outputs": [
    {
     "data": {
      "text/html": [
       "<div>\n",
       "<style scoped>\n",
       "    .dataframe tbody tr th:only-of-type {\n",
       "        vertical-align: middle;\n",
       "    }\n",
       "\n",
       "    .dataframe tbody tr th {\n",
       "        vertical-align: top;\n",
       "    }\n",
       "\n",
       "    .dataframe thead th {\n",
       "        text-align: right;\n",
       "    }\n",
       "</style>\n",
       "<table border=\"1\" class=\"dataframe\">\n",
       "  <thead>\n",
       "    <tr style=\"text-align: right;\">\n",
       "      <th></th>\n",
       "      <th>00</th>\n",
       "      <th>000</th>\n",
       "      <th>000s</th>\n",
       "      <th>0051</th>\n",
       "      <th>007</th>\n",
       "      <th>01</th>\n",
       "      <th>028</th>\n",
       "      <th>04m</th>\n",
       "      <th>05</th>\n",
       "      <th>0530</th>\n",
       "      <th>...</th>\n",
       "      <th>zip</th>\n",
       "      <th>zodiac</th>\n",
       "      <th>zombie</th>\n",
       "      <th>zombies</th>\n",
       "      <th>zone</th>\n",
       "      <th>zonealarm</th>\n",
       "      <th>zones</th>\n",
       "      <th>zoom</th>\n",
       "      <th>zooms</th>\n",
       "      <th>zurich</th>\n",
       "    </tr>\n",
       "  </thead>\n",
       "  <tbody>\n",
       "    <tr>\n",
       "      <th>0</th>\n",
       "      <td>0.0</td>\n",
       "      <td>0.027410</td>\n",
       "      <td>0.0</td>\n",
       "      <td>0.0</td>\n",
       "      <td>0.0</td>\n",
       "      <td>0.0</td>\n",
       "      <td>0.0</td>\n",
       "      <td>0.0</td>\n",
       "      <td>0.0</td>\n",
       "      <td>0.0</td>\n",
       "      <td>...</td>\n",
       "      <td>0.0</td>\n",
       "      <td>0.0</td>\n",
       "      <td>0.0</td>\n",
       "      <td>0.0</td>\n",
       "      <td>0.0</td>\n",
       "      <td>0.0</td>\n",
       "      <td>0.0</td>\n",
       "      <td>0.0</td>\n",
       "      <td>0.0</td>\n",
       "      <td>0.0</td>\n",
       "    </tr>\n",
       "    <tr>\n",
       "      <th>1</th>\n",
       "      <td>0.0</td>\n",
       "      <td>0.000000</td>\n",
       "      <td>0.0</td>\n",
       "      <td>0.0</td>\n",
       "      <td>0.0</td>\n",
       "      <td>0.0</td>\n",
       "      <td>0.0</td>\n",
       "      <td>0.0</td>\n",
       "      <td>0.0</td>\n",
       "      <td>0.0</td>\n",
       "      <td>...</td>\n",
       "      <td>0.0</td>\n",
       "      <td>0.0</td>\n",
       "      <td>0.0</td>\n",
       "      <td>0.0</td>\n",
       "      <td>0.0</td>\n",
       "      <td>0.0</td>\n",
       "      <td>0.0</td>\n",
       "      <td>0.0</td>\n",
       "      <td>0.0</td>\n",
       "      <td>0.0</td>\n",
       "    </tr>\n",
       "    <tr>\n",
       "      <th>2</th>\n",
       "      <td>0.0</td>\n",
       "      <td>0.059127</td>\n",
       "      <td>0.0</td>\n",
       "      <td>0.0</td>\n",
       "      <td>0.0</td>\n",
       "      <td>0.0</td>\n",
       "      <td>0.0</td>\n",
       "      <td>0.0</td>\n",
       "      <td>0.0</td>\n",
       "      <td>0.0</td>\n",
       "      <td>...</td>\n",
       "      <td>0.0</td>\n",
       "      <td>0.0</td>\n",
       "      <td>0.0</td>\n",
       "      <td>0.0</td>\n",
       "      <td>0.0</td>\n",
       "      <td>0.0</td>\n",
       "      <td>0.0</td>\n",
       "      <td>0.0</td>\n",
       "      <td>0.0</td>\n",
       "      <td>0.0</td>\n",
       "    </tr>\n",
       "    <tr>\n",
       "      <th>3</th>\n",
       "      <td>0.0</td>\n",
       "      <td>0.000000</td>\n",
       "      <td>0.0</td>\n",
       "      <td>0.0</td>\n",
       "      <td>0.0</td>\n",
       "      <td>0.0</td>\n",
       "      <td>0.0</td>\n",
       "      <td>0.0</td>\n",
       "      <td>0.0</td>\n",
       "      <td>0.0</td>\n",
       "      <td>...</td>\n",
       "      <td>0.0</td>\n",
       "      <td>0.0</td>\n",
       "      <td>0.0</td>\n",
       "      <td>0.0</td>\n",
       "      <td>0.0</td>\n",
       "      <td>0.0</td>\n",
       "      <td>0.0</td>\n",
       "      <td>0.0</td>\n",
       "      <td>0.0</td>\n",
       "      <td>0.0</td>\n",
       "    </tr>\n",
       "    <tr>\n",
       "      <th>4</th>\n",
       "      <td>0.0</td>\n",
       "      <td>0.000000</td>\n",
       "      <td>0.0</td>\n",
       "      <td>0.0</td>\n",
       "      <td>0.0</td>\n",
       "      <td>0.0</td>\n",
       "      <td>0.0</td>\n",
       "      <td>0.0</td>\n",
       "      <td>0.0</td>\n",
       "      <td>0.0</td>\n",
       "      <td>...</td>\n",
       "      <td>0.0</td>\n",
       "      <td>0.0</td>\n",
       "      <td>0.0</td>\n",
       "      <td>0.0</td>\n",
       "      <td>0.0</td>\n",
       "      <td>0.0</td>\n",
       "      <td>0.0</td>\n",
       "      <td>0.0</td>\n",
       "      <td>0.0</td>\n",
       "      <td>0.0</td>\n",
       "    </tr>\n",
       "  </tbody>\n",
       "</table>\n",
       "<p>5 rows × 11820 columns</p>\n",
       "</div>"
      ],
      "text/plain": [
       "    00       000  000s  0051  007   01  028  04m   05  0530   ...    zip  \\\n",
       "0  0.0  0.027410   0.0   0.0  0.0  0.0  0.0  0.0  0.0   0.0   ...    0.0   \n",
       "1  0.0  0.000000   0.0   0.0  0.0  0.0  0.0  0.0  0.0   0.0   ...    0.0   \n",
       "2  0.0  0.059127   0.0   0.0  0.0  0.0  0.0  0.0  0.0   0.0   ...    0.0   \n",
       "3  0.0  0.000000   0.0   0.0  0.0  0.0  0.0  0.0  0.0   0.0   ...    0.0   \n",
       "4  0.0  0.000000   0.0   0.0  0.0  0.0  0.0  0.0  0.0   0.0   ...    0.0   \n",
       "\n",
       "   zodiac  zombie  zombies  zone  zonealarm  zones  zoom  zooms  zurich  \n",
       "0     0.0     0.0      0.0   0.0        0.0    0.0   0.0    0.0     0.0  \n",
       "1     0.0     0.0      0.0   0.0        0.0    0.0   0.0    0.0     0.0  \n",
       "2     0.0     0.0      0.0   0.0        0.0    0.0   0.0    0.0     0.0  \n",
       "3     0.0     0.0      0.0   0.0        0.0    0.0   0.0    0.0     0.0  \n",
       "4     0.0     0.0      0.0   0.0        0.0    0.0   0.0    0.0     0.0  \n",
       "\n",
       "[5 rows x 11820 columns]"
      ]
     },
     "execution_count": 18,
     "metadata": {},
     "output_type": "execute_result"
    }
   ],
   "source": [
    "from sklearn.feature_extraction.text import TfidfVectorizer\n",
    "\n",
    "# Instantiate vectorizer object\n",
    "# We want to control the value of the length of documents. \n",
    "tfidf = TfidfVectorizer(stop_words='english')\n",
    "\n",
    "# Create a vocabulary and get word counts per document\n",
    "# Similar to fit_predict\n",
    "dtm = tfidf.fit_transform(data)\n",
    "\n",
    "# Print word counts\n",
    "# Get feature names to use as dataframe column headers\n",
    "dtm = pd.DataFrame(dtm.todense(), columns=tfidf.get_feature_names())\n",
    "\n",
    "# View Feature Matrix as DataFrame\n",
    "dtm.head()"
   ]
  },
  {
   "cell_type": "code",
   "execution_count": 19,
   "metadata": {},
   "outputs": [],
   "source": [
    "def tokenize(document):\n",
    "    doc = nlp(document)\n",
    "    return [token.lemma_.strip() for token in doc if (token.is_stop != True) and (token.is_punct != True)]"
   ]
  },
  {
   "cell_type": "code",
   "execution_count": 20,
   "metadata": {},
   "outputs": [
    {
     "data": {
      "text/html": [
       "<div>\n",
       "<style scoped>\n",
       "    .dataframe tbody tr th:only-of-type {\n",
       "        vertical-align: middle;\n",
       "    }\n",
       "\n",
       "    .dataframe tbody tr th {\n",
       "        vertical-align: top;\n",
       "    }\n",
       "\n",
       "    .dataframe thead th {\n",
       "        text-align: right;\n",
       "    }\n",
       "</style>\n",
       "<table border=\"1\" class=\"dataframe\">\n",
       "  <thead>\n",
       "    <tr style=\"text-align: right;\">\n",
       "      <th></th>\n",
       "      <th>accord</th>\n",
       "      <th>apple</th>\n",
       "      <th>company</th>\n",
       "      <th>computer</th>\n",
       "      <th>game</th>\n",
       "      <th>high</th>\n",
       "      <th>microsoft</th>\n",
       "      <th>mobile</th>\n",
       "      <th>mr</th>\n",
       "      <th>net</th>\n",
       "      <th>...</th>\n",
       "      <th>xbox</th>\n",
       "      <th>xp</th>\n",
       "      <th>yahoo</th>\n",
       "      <th>year</th>\n",
       "      <th>year</th>\n",
       "      <th>year ago</th>\n",
       "      <th>year say</th>\n",
       "      <th>york</th>\n",
       "      <th>young</th>\n",
       "      <th>£</th>\n",
       "    </tr>\n",
       "  </thead>\n",
       "  <tbody>\n",
       "    <tr>\n",
       "      <th>0</th>\n",
       "      <td>0.000000</td>\n",
       "      <td>0.0</td>\n",
       "      <td>0.0</td>\n",
       "      <td>0.0</td>\n",
       "      <td>0.0</td>\n",
       "      <td>0.0</td>\n",
       "      <td>0.000000</td>\n",
       "      <td>0.057792</td>\n",
       "      <td>0.0</td>\n",
       "      <td>0.000000</td>\n",
       "      <td>...</td>\n",
       "      <td>0.000000</td>\n",
       "      <td>0.0</td>\n",
       "      <td>0.0</td>\n",
       "      <td>0.092018</td>\n",
       "      <td>0.0</td>\n",
       "      <td>0.0</td>\n",
       "      <td>0.000000</td>\n",
       "      <td>0.060652</td>\n",
       "      <td>0.057155</td>\n",
       "      <td>0.036405</td>\n",
       "    </tr>\n",
       "    <tr>\n",
       "      <th>1</th>\n",
       "      <td>0.102752</td>\n",
       "      <td>0.0</td>\n",
       "      <td>0.0</td>\n",
       "      <td>0.0</td>\n",
       "      <td>0.0</td>\n",
       "      <td>0.0</td>\n",
       "      <td>0.000000</td>\n",
       "      <td>0.000000</td>\n",
       "      <td>0.0</td>\n",
       "      <td>0.000000</td>\n",
       "      <td>...</td>\n",
       "      <td>0.000000</td>\n",
       "      <td>0.0</td>\n",
       "      <td>0.0</td>\n",
       "      <td>0.071270</td>\n",
       "      <td>0.0</td>\n",
       "      <td>0.0</td>\n",
       "      <td>0.099434</td>\n",
       "      <td>0.000000</td>\n",
       "      <td>0.000000</td>\n",
       "      <td>0.000000</td>\n",
       "    </tr>\n",
       "    <tr>\n",
       "      <th>2</th>\n",
       "      <td>0.000000</td>\n",
       "      <td>0.0</td>\n",
       "      <td>0.0</td>\n",
       "      <td>0.0</td>\n",
       "      <td>0.0</td>\n",
       "      <td>0.0</td>\n",
       "      <td>0.000000</td>\n",
       "      <td>0.000000</td>\n",
       "      <td>0.0</td>\n",
       "      <td>0.000000</td>\n",
       "      <td>...</td>\n",
       "      <td>0.041515</td>\n",
       "      <td>0.0</td>\n",
       "      <td>0.0</td>\n",
       "      <td>0.074165</td>\n",
       "      <td>0.0</td>\n",
       "      <td>0.0</td>\n",
       "      <td>0.000000</td>\n",
       "      <td>0.000000</td>\n",
       "      <td>0.000000</td>\n",
       "      <td>0.058683</td>\n",
       "    </tr>\n",
       "    <tr>\n",
       "      <th>3</th>\n",
       "      <td>0.000000</td>\n",
       "      <td>0.0</td>\n",
       "      <td>0.0</td>\n",
       "      <td>0.0</td>\n",
       "      <td>0.0</td>\n",
       "      <td>0.0</td>\n",
       "      <td>0.071774</td>\n",
       "      <td>0.000000</td>\n",
       "      <td>0.0</td>\n",
       "      <td>0.000000</td>\n",
       "      <td>...</td>\n",
       "      <td>0.000000</td>\n",
       "      <td>0.0</td>\n",
       "      <td>0.0</td>\n",
       "      <td>0.000000</td>\n",
       "      <td>0.0</td>\n",
       "      <td>0.0</td>\n",
       "      <td>0.000000</td>\n",
       "      <td>0.000000</td>\n",
       "      <td>0.000000</td>\n",
       "      <td>0.000000</td>\n",
       "    </tr>\n",
       "    <tr>\n",
       "      <th>4</th>\n",
       "      <td>0.000000</td>\n",
       "      <td>0.0</td>\n",
       "      <td>0.0</td>\n",
       "      <td>0.0</td>\n",
       "      <td>0.0</td>\n",
       "      <td>0.0</td>\n",
       "      <td>0.000000</td>\n",
       "      <td>0.000000</td>\n",
       "      <td>0.0</td>\n",
       "      <td>0.115961</td>\n",
       "      <td>...</td>\n",
       "      <td>0.000000</td>\n",
       "      <td>0.0</td>\n",
       "      <td>0.0</td>\n",
       "      <td>0.020108</td>\n",
       "      <td>0.0</td>\n",
       "      <td>0.0</td>\n",
       "      <td>0.056108</td>\n",
       "      <td>0.000000</td>\n",
       "      <td>0.000000</td>\n",
       "      <td>0.000000</td>\n",
       "    </tr>\n",
       "  </tbody>\n",
       "</table>\n",
       "<p>5 rows × 1568 columns</p>\n",
       "</div>"
      ],
      "text/plain": [
       "     accord   apple   company   computer   game   high   microsoft    mobile  \\\n",
       "0  0.000000     0.0       0.0        0.0    0.0    0.0    0.000000  0.057792   \n",
       "1  0.102752     0.0       0.0        0.0    0.0    0.0    0.000000  0.000000   \n",
       "2  0.000000     0.0       0.0        0.0    0.0    0.0    0.000000  0.000000   \n",
       "3  0.000000     0.0       0.0        0.0    0.0    0.0    0.071774  0.000000   \n",
       "4  0.000000     0.0       0.0        0.0    0.0    0.0    0.000000  0.000000   \n",
       "\n",
       "    mr       net    ...         xbox   xp  yahoo      year  year   year ago  \\\n",
       "0  0.0  0.000000    ...     0.000000  0.0    0.0  0.092018    0.0       0.0   \n",
       "1  0.0  0.000000    ...     0.000000  0.0    0.0  0.071270    0.0       0.0   \n",
       "2  0.0  0.000000    ...     0.041515  0.0    0.0  0.074165    0.0       0.0   \n",
       "3  0.0  0.000000    ...     0.000000  0.0    0.0  0.000000    0.0       0.0   \n",
       "4  0.0  0.115961    ...     0.000000  0.0    0.0  0.020108    0.0       0.0   \n",
       "\n",
       "   year say      york     young         £  \n",
       "0  0.000000  0.060652  0.057155  0.036405  \n",
       "1  0.099434  0.000000  0.000000  0.000000  \n",
       "2  0.000000  0.000000  0.000000  0.058683  \n",
       "3  0.000000  0.000000  0.000000  0.000000  \n",
       "4  0.056108  0.000000  0.000000  0.000000  \n",
       "\n",
       "[5 rows x 1568 columns]"
      ]
     },
     "execution_count": 20,
     "metadata": {},
     "output_type": "execute_result"
    }
   ],
   "source": [
    "# Tunning Parameters\n",
    "from sklearn.feature_extraction.text import TfidfVectorizer\n",
    "\n",
    "tfidf = TfidfVectorizer(tokenizer=tokenize, min_df=0.025, max_df=.98, ngram_range=(1,2))\n",
    "\n",
    "dtm = tfidf.fit_transform(data)\n",
    "\n",
    "dtm = pd.DataFrame(dtm.todense(), columns=tfidf.get_feature_names())\n",
    "\n",
    "dtm.head()\n",
    "\n"
   ]
  },
  {
   "cell_type": "markdown",
   "metadata": {},
   "source": [
    "## Challenge\n",
    "\n",
    "During this module's project assignment, you will transform data science job listings to vector representations for analysis downstream. "
   ]
  },
  {
   "cell_type": "markdown",
   "metadata": {},
   "source": [
    "# Query Documents by Similarity (Learn)\n",
    "<a id=\"p2\"></a>"
   ]
  },
  {
   "cell_type": "markdown",
   "metadata": {},
   "source": [
    "## Overview\n",
    "\n",
    "Have you ever considered how a search bar works? You may just think that search bars simply match your input text againist the documents. While there are many different mechanisms for the 'match', one of the most classic is to search by similarity. We will apply n-dimensional distance to measure similarity, and query for input and output. "
   ]
  },
  {
   "cell_type": "markdown",
   "metadata": {
    "toc-hr-collapsed": true
   },
   "source": [
    "## Follow Along"
   ]
  },
  {
   "cell_type": "markdown",
   "metadata": {},
   "source": [
    "### Cosine Similarity (Brute Force)"
   ]
  },
  {
   "cell_type": "code",
   "execution_count": 21,
   "metadata": {},
   "outputs": [],
   "source": [
    "# Calculate Distance of TF-IDF Vectors\n",
    "from sklearn.metrics.pairwise import cosine_similarity\n",
    "\n",
    "dist_matrix  = cosine_similarity(dtm)"
   ]
  },
  {
   "cell_type": "code",
   "execution_count": 22,
   "metadata": {},
   "outputs": [],
   "source": [
    "# Turn it into a DataFrame\n",
    "df = pd.DataFrame(dist_matrix)"
   ]
  },
  {
   "cell_type": "code",
   "execution_count": 23,
   "metadata": {},
   "outputs": [
    {
     "data": {
      "text/plain": [
       "(401, 401)"
      ]
     },
     "execution_count": 23,
     "metadata": {},
     "output_type": "execute_result"
    }
   ],
   "source": [
    "# Our Similarity Matrix is ? size \n",
    "df.shape"
   ]
  },
  {
   "cell_type": "code",
   "execution_count": 24,
   "metadata": {},
   "outputs": [
    {
     "data": {
      "text/plain": [
       "0    1.000000\n",
       "1    0.111555\n",
       "2    0.056505\n",
       "3    0.014170\n",
       "4    0.096305\n",
       "Name: 0, dtype: float64"
      ]
     },
     "execution_count": 24,
     "metadata": {},
     "output_type": "execute_result"
    }
   ],
   "source": [
    "# Each row is the similarity of one document to all other documents (including itself)\n",
    "df[0][:5]\n"
   ]
  },
  {
   "cell_type": "code",
   "execution_count": 25,
   "metadata": {},
   "outputs": [
    {
     "data": {
      "text/plain": [
       "0      1.000000\n",
       "62     1.000000\n",
       "92     0.494188\n",
       "297    0.475413\n",
       "300    0.456595\n",
       "63     0.446935\n",
       "309    0.377586\n",
       "381    0.377134\n",
       "254    0.370410\n",
       "277    0.369139\n",
       "Name: 0, dtype: float64"
      ]
     },
     "execution_count": 25,
     "metadata": {},
     "output_type": "execute_result"
    }
   ],
   "source": [
    "# Grab the row\n",
    "df[0].sort_values(ascending=False)[:10]"
   ]
  },
  {
   "cell_type": "code",
   "execution_count": 26,
   "metadata": {},
   "outputs": [
    {
     "data": {
      "text/plain": [
       "0      1.000000\n",
       "1      0.111555\n",
       "2      0.056505\n",
       "3      0.014170\n",
       "4      0.096305\n",
       "5      0.024433\n",
       "6      0.067845\n",
       "7      0.087136\n",
       "8      0.045986\n",
       "9      0.069967\n",
       "10     0.073880\n",
       "11     0.053351\n",
       "12     0.058239\n",
       "13     0.148081\n",
       "14     0.037354\n",
       "15     0.063174\n",
       "16     0.051552\n",
       "18     0.084598\n",
       "19     0.075428\n",
       "20     0.115949\n",
       "21     0.036894\n",
       "22     0.138011\n",
       "23     0.065577\n",
       "24     0.034148\n",
       "25     0.043739\n",
       "26     0.057775\n",
       "27     0.111340\n",
       "28     0.271434\n",
       "29     0.028979\n",
       "30     0.033961\n",
       "         ...   \n",
       "351    0.077108\n",
       "352    0.048411\n",
       "353    0.063865\n",
       "354    0.032213\n",
       "356    0.043360\n",
       "357    0.344648\n",
       "360    0.016953\n",
       "364    0.043393\n",
       "365    0.056225\n",
       "366    0.054507\n",
       "367    0.045300\n",
       "368    0.058585\n",
       "369    0.032916\n",
       "370    0.045365\n",
       "375    0.053020\n",
       "377    0.051941\n",
       "378    0.303130\n",
       "379    0.032685\n",
       "381    0.377134\n",
       "384    0.038947\n",
       "386    0.036699\n",
       "389    0.023782\n",
       "391    0.052262\n",
       "393    0.133299\n",
       "395    0.019245\n",
       "396    0.069096\n",
       "397    0.057078\n",
       "398    0.033017\n",
       "399    0.250947\n",
       "400    0.029194\n",
       "Name: 0, Length: 339, dtype: float64"
      ]
     },
     "execution_count": 26,
     "metadata": {},
     "output_type": "execute_result"
    }
   ],
   "source": [
    "df[0].drop_duplicates()"
   ]
  },
  {
   "cell_type": "code",
   "execution_count": 27,
   "metadata": {},
   "outputs": [
    {
     "name": "stdout",
     "output_type": "stream",
     "text": [
      "b\"Mobiles rack up 20 years of use\\n\\nMobile phones in the UK are celebrating their 20th anniversary this weekend.\\n\\nBritain's first mobile phone call was m\"\n"
     ]
    }
   ],
   "source": [
    "print(data[0][:150])"
   ]
  },
  {
   "cell_type": "code",
   "execution_count": 28,
   "metadata": {},
   "outputs": [
    {
     "name": "stdout",
     "output_type": "stream",
     "text": [
      "b'Finding new homes for old phones\\n\\nRe-using old mobile phones is not just good for the environment, it has social benefits too.\\n\\nResearch has found that in some developing nations o'\n"
     ]
    }
   ],
   "source": [
    "print(data[92][:180])"
   ]
  },
  {
   "cell_type": "markdown",
   "metadata": {},
   "source": [
    "### NearestNeighbor (K-NN) \n",
    "\n",
    "To address the computational inefficiencies of the brute-force approach, a variety of tree-based data structures have been invented. In general, these structures attempt to reduce the required number of distance calculations by efficiently encoding aggregate distance information for the sample. The basic idea is that if point  is very distant from point , and point  is very close to point , then we know that points  and  are very distant, without having to explicitly calculate their distance. In this way, the computational cost of a nearest neighbors search can be reduced to  or better. This is a significant improvement over brute-force for large data.\n",
    "\n",
    "To address the inefficiencies of KD Trees in higher dimensions, the ball tree data structure was developed. Where KD trees partition data along Cartesian axes, ball trees partition data in a series of nesting hyper-spheres. This makes tree construction more costly than that of the KD tree, but results in a data structure which can be very efficient on highly structured data, even in very high dimensions.\n",
    "\n",
    "A ball tree recursively divides the data into nodes defined by a centroid  and radius , such that each point in the node lies within the hyper-sphere defined by  and . The number of candidate points for a neighbor search is reduced through use of the triangle inequality:\n",
    "\n",
    "With this setup, a single distance calculation between a test point and the centroid is sufficient to determine a lower and upper bound on the distance to all points within the node. Because of the spherical geometry of the ball tree nodes, it can out-perform a KD-tree in high dimensions, though the actual performance is highly dependent on the structure of the training data. In scikit-learn, ball-tree-based neighbors searches are specified using the keyword algorithm = 'ball_tree', and are computed using the class sklearn.neighbors.BallTree. Alternatively, the user can work with the BallTree class directly."
   ]
  },
  {
   "cell_type": "code",
   "execution_count": 29,
   "metadata": {},
   "outputs": [
    {
     "data": {
      "text/html": [
       "<div>\n",
       "<style scoped>\n",
       "    .dataframe tbody tr th:only-of-type {\n",
       "        vertical-align: middle;\n",
       "    }\n",
       "\n",
       "    .dataframe tbody tr th {\n",
       "        vertical-align: top;\n",
       "    }\n",
       "\n",
       "    .dataframe thead th {\n",
       "        text-align: right;\n",
       "    }\n",
       "</style>\n",
       "<table border=\"1\" class=\"dataframe\">\n",
       "  <thead>\n",
       "    <tr style=\"text-align: right;\">\n",
       "      <th></th>\n",
       "      <th>accord</th>\n",
       "      <th>apple</th>\n",
       "      <th>company</th>\n",
       "      <th>computer</th>\n",
       "      <th>game</th>\n",
       "      <th>high</th>\n",
       "      <th>microsoft</th>\n",
       "      <th>mobile</th>\n",
       "      <th>mr</th>\n",
       "      <th>net</th>\n",
       "      <th>...</th>\n",
       "      <th>xbox</th>\n",
       "      <th>xp</th>\n",
       "      <th>yahoo</th>\n",
       "      <th>year</th>\n",
       "      <th>year</th>\n",
       "      <th>year ago</th>\n",
       "      <th>year say</th>\n",
       "      <th>york</th>\n",
       "      <th>young</th>\n",
       "      <th>£</th>\n",
       "    </tr>\n",
       "  </thead>\n",
       "  <tbody>\n",
       "    <tr>\n",
       "      <th>0</th>\n",
       "      <td>0.000000</td>\n",
       "      <td>0.0</td>\n",
       "      <td>0.0</td>\n",
       "      <td>0.0</td>\n",
       "      <td>0.0</td>\n",
       "      <td>0.0</td>\n",
       "      <td>0.000000</td>\n",
       "      <td>0.057792</td>\n",
       "      <td>0.0</td>\n",
       "      <td>0.000000</td>\n",
       "      <td>...</td>\n",
       "      <td>0.000000</td>\n",
       "      <td>0.0</td>\n",
       "      <td>0.0</td>\n",
       "      <td>0.092018</td>\n",
       "      <td>0.0</td>\n",
       "      <td>0.0</td>\n",
       "      <td>0.000000</td>\n",
       "      <td>0.060652</td>\n",
       "      <td>0.057155</td>\n",
       "      <td>0.036405</td>\n",
       "    </tr>\n",
       "    <tr>\n",
       "      <th>1</th>\n",
       "      <td>0.102752</td>\n",
       "      <td>0.0</td>\n",
       "      <td>0.0</td>\n",
       "      <td>0.0</td>\n",
       "      <td>0.0</td>\n",
       "      <td>0.0</td>\n",
       "      <td>0.000000</td>\n",
       "      <td>0.000000</td>\n",
       "      <td>0.0</td>\n",
       "      <td>0.000000</td>\n",
       "      <td>...</td>\n",
       "      <td>0.000000</td>\n",
       "      <td>0.0</td>\n",
       "      <td>0.0</td>\n",
       "      <td>0.071270</td>\n",
       "      <td>0.0</td>\n",
       "      <td>0.0</td>\n",
       "      <td>0.099434</td>\n",
       "      <td>0.000000</td>\n",
       "      <td>0.000000</td>\n",
       "      <td>0.000000</td>\n",
       "    </tr>\n",
       "    <tr>\n",
       "      <th>2</th>\n",
       "      <td>0.000000</td>\n",
       "      <td>0.0</td>\n",
       "      <td>0.0</td>\n",
       "      <td>0.0</td>\n",
       "      <td>0.0</td>\n",
       "      <td>0.0</td>\n",
       "      <td>0.000000</td>\n",
       "      <td>0.000000</td>\n",
       "      <td>0.0</td>\n",
       "      <td>0.000000</td>\n",
       "      <td>...</td>\n",
       "      <td>0.041515</td>\n",
       "      <td>0.0</td>\n",
       "      <td>0.0</td>\n",
       "      <td>0.074165</td>\n",
       "      <td>0.0</td>\n",
       "      <td>0.0</td>\n",
       "      <td>0.000000</td>\n",
       "      <td>0.000000</td>\n",
       "      <td>0.000000</td>\n",
       "      <td>0.058683</td>\n",
       "    </tr>\n",
       "    <tr>\n",
       "      <th>3</th>\n",
       "      <td>0.000000</td>\n",
       "      <td>0.0</td>\n",
       "      <td>0.0</td>\n",
       "      <td>0.0</td>\n",
       "      <td>0.0</td>\n",
       "      <td>0.0</td>\n",
       "      <td>0.071774</td>\n",
       "      <td>0.000000</td>\n",
       "      <td>0.0</td>\n",
       "      <td>0.000000</td>\n",
       "      <td>...</td>\n",
       "      <td>0.000000</td>\n",
       "      <td>0.0</td>\n",
       "      <td>0.0</td>\n",
       "      <td>0.000000</td>\n",
       "      <td>0.0</td>\n",
       "      <td>0.0</td>\n",
       "      <td>0.000000</td>\n",
       "      <td>0.000000</td>\n",
       "      <td>0.000000</td>\n",
       "      <td>0.000000</td>\n",
       "    </tr>\n",
       "    <tr>\n",
       "      <th>4</th>\n",
       "      <td>0.000000</td>\n",
       "      <td>0.0</td>\n",
       "      <td>0.0</td>\n",
       "      <td>0.0</td>\n",
       "      <td>0.0</td>\n",
       "      <td>0.0</td>\n",
       "      <td>0.000000</td>\n",
       "      <td>0.000000</td>\n",
       "      <td>0.0</td>\n",
       "      <td>0.115961</td>\n",
       "      <td>...</td>\n",
       "      <td>0.000000</td>\n",
       "      <td>0.0</td>\n",
       "      <td>0.0</td>\n",
       "      <td>0.020108</td>\n",
       "      <td>0.0</td>\n",
       "      <td>0.0</td>\n",
       "      <td>0.056108</td>\n",
       "      <td>0.000000</td>\n",
       "      <td>0.000000</td>\n",
       "      <td>0.000000</td>\n",
       "    </tr>\n",
       "  </tbody>\n",
       "</table>\n",
       "<p>5 rows × 1568 columns</p>\n",
       "</div>"
      ],
      "text/plain": [
       "     accord   apple   company   computer   game   high   microsoft    mobile  \\\n",
       "0  0.000000     0.0       0.0        0.0    0.0    0.0    0.000000  0.057792   \n",
       "1  0.102752     0.0       0.0        0.0    0.0    0.0    0.000000  0.000000   \n",
       "2  0.000000     0.0       0.0        0.0    0.0    0.0    0.000000  0.000000   \n",
       "3  0.000000     0.0       0.0        0.0    0.0    0.0    0.071774  0.000000   \n",
       "4  0.000000     0.0       0.0        0.0    0.0    0.0    0.000000  0.000000   \n",
       "\n",
       "    mr       net    ...         xbox   xp  yahoo      year  year   year ago  \\\n",
       "0  0.0  0.000000    ...     0.000000  0.0    0.0  0.092018    0.0       0.0   \n",
       "1  0.0  0.000000    ...     0.000000  0.0    0.0  0.071270    0.0       0.0   \n",
       "2  0.0  0.000000    ...     0.041515  0.0    0.0  0.074165    0.0       0.0   \n",
       "3  0.0  0.000000    ...     0.000000  0.0    0.0  0.000000    0.0       0.0   \n",
       "4  0.0  0.115961    ...     0.000000  0.0    0.0  0.020108    0.0       0.0   \n",
       "\n",
       "   year say      york     young         £  \n",
       "0  0.000000  0.060652  0.057155  0.036405  \n",
       "1  0.099434  0.000000  0.000000  0.000000  \n",
       "2  0.000000  0.000000  0.000000  0.058683  \n",
       "3  0.000000  0.000000  0.000000  0.000000  \n",
       "4  0.056108  0.000000  0.000000  0.000000  \n",
       "\n",
       "[5 rows x 1568 columns]"
      ]
     },
     "execution_count": 29,
     "metadata": {},
     "output_type": "execute_result"
    }
   ],
   "source": [
    "dtm.head()"
   ]
  },
  {
   "cell_type": "code",
   "execution_count": 30,
   "metadata": {},
   "outputs": [
    {
     "data": {
      "text/plain": [
       "NearestNeighbors(algorithm='kd_tree', leaf_size=30, metric='minkowski',\n",
       "                 metric_params=None, n_jobs=None, n_neighbors=5, p=2,\n",
       "                 radius=1.0)"
      ]
     },
     "execution_count": 30,
     "metadata": {},
     "output_type": "execute_result"
    }
   ],
   "source": [
    "# Instantiate\n",
    "from sklearn.neighbors import NearestNeighbors\n",
    "\n",
    "# Fit on TF-IDF Vectors\n",
    "nn  = NearestNeighbors(n_neighbors=5, algorithm='kd_tree')\n",
    "nn.fit(dtm)"
   ]
  },
  {
   "cell_type": "markdown",
   "metadata": {},
   "source": [
    "Minkoski is the default metric. "
   ]
  },
  {
   "cell_type": "code",
   "execution_count": 31,
   "metadata": {},
   "outputs": [
    {
     "data": {
      "text/plain": [
       "(array([[0.        , 0.        , 1.00579479, 1.02429193, 1.04250145]]),\n",
       " array([[  0,  62,  92, 297, 300]]))"
      ]
     },
     "execution_count": 31,
     "metadata": {},
     "output_type": "execute_result"
    }
   ],
   "source": [
    "# Query Using kneighbors \n",
    "nn.kneighbors([dtm.iloc[0].values])"
   ]
  },
  {
   "cell_type": "code",
   "execution_count": 32,
   "metadata": {},
   "outputs": [
    {
     "data": {
      "text/plain": [
       "b'Why Cell will get the hard sell\\n\\nThe world is casting its gaze on the Cell processor for the first time, but what is so important about it, and why is it so different?\\n\\nThe backers of the processor ar'"
      ]
     },
     "execution_count": 32,
     "metadata": {},
     "output_type": "execute_result"
    }
   ],
   "source": [
    "data[356][:200]"
   ]
  },
  {
   "cell_type": "code",
   "execution_count": 33,
   "metadata": {},
   "outputs": [
    {
     "data": {
      "text/plain": [
       "b\"PlayStation 3 processor unveiled\\n\\nThe Cell processor, which will drive Sony's PlayStation 3, will run 10-times faster than current PC chips, its designers have said.\\n\\nSony, IBM and Toshiba, who have b\""
      ]
     },
     "execution_count": 33,
     "metadata": {},
     "output_type": "execute_result"
    }
   ],
   "source": [
    "data[328][:200]"
   ]
  },
  {
   "cell_type": "code",
   "execution_count": 34,
   "metadata": {},
   "outputs": [],
   "source": [
    "medium_random_ass_tech = [ \"\"\"\n",
    "Unlike other computational devices that treats scalar or vectors as primitives, Google's TPU treats matrices as primitives. The TPU is designed to perform matrix multiplication at a massive scale. If you look at the diagram above, you notice that that the device doesn't have high bandwidth to memory. It uses DDR3 with only 30GB/s to memory. Contrast that to the a Nvidia Titan X with GDDR5X hitting transfer speeds of 480GB/s. The systolic array trades off speed for throughput. A Titan X has 3,583 CUDA cores. The CUDA cores are 32bit and are more general purpose than 8bit cores of the TPU. Apparently, Google knew likely way back in 2014 that 8bit was good enough (note: Google had deployed TPU as early as 2015).\n",
    "Systolic arrays are heavily pipelined, given that it is 256 units wide, it takes 256 cycles from the time the first element gets into the array to the time it comes out. Twice that many cycles for everything that needs to get it, to all come out. However, at its peak, you'll get 65k processors all cranking together. Here's a slide that shows how a systolic array performs matrix multiplication\n",
    "\"\"\"]"
   ]
  },
  {
   "cell_type": "code",
   "execution_count": 35,
   "metadata": {},
   "outputs": [],
   "source": [
    "# Query for Sim of Random doc to BBC\n",
    "new = tfidf.transform(medium_random_ass_tech)"
   ]
  },
  {
   "cell_type": "code",
   "execution_count": 36,
   "metadata": {},
   "outputs": [
    {
     "data": {
      "text/plain": [
       "<1x1568 sparse matrix of type '<class 'numpy.float64'>'\n",
       "\twith 35 stored elements in Compressed Sparse Row format>"
      ]
     },
     "execution_count": 36,
     "metadata": {},
     "output_type": "execute_result"
    }
   ],
   "source": [
    "new"
   ]
  },
  {
   "cell_type": "code",
   "execution_count": 37,
   "metadata": {},
   "outputs": [
    {
     "data": {
      "text/plain": [
       "(array([[1.23569278, 1.25953839, 1.26728483, 1.26840882, 1.29596811]]),\n",
       " array([[151, 255, 292,  39, 232]]))"
      ]
     },
     "execution_count": 37,
     "metadata": {},
     "output_type": "execute_result"
    }
   ],
   "source": [
    "nn.kneighbors(new.todense())"
   ]
  },
  {
   "cell_type": "code",
   "execution_count": 38,
   "metadata": {},
   "outputs": [
    {
     "data": {
      "text/plain": [
       "b'Google\\'s toolbar sparks concern\\n\\nSearch engine firm Google has released a trial tool which is concerning some net users because it directs people to pre-selected commercial websites.\\n\\nThe AutoLink feature comes with Google\\'s latest toolbar and provides links in a webpage to Amazon.com if it finds a book\\'s ISBN number on the site. It also links to Google\\'s map service, if there is an address, or to car firm Carfax, if there is a licence plate. Google said the feature, available only in the US, \"adds useful links\". But some users are concerned that Google\\'s dominant position in the search engine market place could mean it would be giving a competitive edge to firms like Amazon.\\n\\nAutoLink works by creating a link to a website based on information contained in a webpage - even if there is no link specified and whether or not the publisher of the page has given permission.\\n\\nIf a user clicks the AutoLink feature in the Google toolbar then a webpage with a book\\'s unique ISBN number would link directly to Amazon\\'s website. It could mean online libraries that list ISBN book numbers find they are directing users to Amazon.com whether they like it or not. Websites which have paid for advertising on their pages may also be directing people to rival services. Dan Gillmor, founder of Grassroots Media, which supports citizen-based media, said the tool was a \"bad idea, and an unfortunate move by a company that is looking to continue its hypergrowth\". In a statement Google said the feature was still only in beta, ie trial, stage and that the company welcomed feedback from users. It said: \"The user can choose never to click on the AutoLink button, and web pages she views will never be modified. \"In addition, the user can choose to disable the AutoLink feature entirely at any time.\"\\n\\nThe new tool has been compared to the Smart Tags feature from Microsoft by some users. It was widely criticised by net users and later dropped by Microsoft after concerns over trademark use were raised. Smart Tags allowed Microsoft to link any word on a web page to another site chosen by the company. Google said none of the companies which received AutoLinks had paid for the service. Some users said AutoLink would only be fair if websites had to sign up to allow the feature to work on their pages or if they received revenue for any \"click through\" to a commercial site. Cory Doctorow, European outreach coordinator for digital civil liberties group Electronic Fronter Foundation, said that Google should not be penalised for its market dominance. \"Of course Google should be allowed to direct people to whatever proxies it chooses. \"But as an end user I would want to know - \\'Can I choose to use this service?, \\'How much is Google being paid?\\', \\'Can I substitute my own companies for the ones chosen by Google?\\'.\" Mr Doctorow said the only objection would be if users were forced into using AutoLink or \"tricked into using the service\".\\n'"
      ]
     },
     "execution_count": 38,
     "metadata": {},
     "output_type": "execute_result"
    }
   ],
   "source": [
    "# Inspect Most relevant result\n",
    "data[151]"
   ]
  },
  {
   "cell_type": "markdown",
   "metadata": {},
   "source": [
    "## Challenge\n",
    "\n",
    "In the module project assignment, you will apply one of these search techniques to retrieve documents related to a query document. "
   ]
  },
  {
   "cell_type": "markdown",
   "metadata": {},
   "source": [
    "# Apply word embedding models to create document vectors (Learn)\n",
    "<a id=\"p3\"></a>"
   ]
  },
  {
   "cell_type": "markdown",
   "metadata": {},
   "source": [
    "## Overview\n",
    "### BoW discards textual context\n",
    "\n",
    "One of the limitations of Bag-of-Words approaches is that any information about the textual context surrounding that word is lost. This also means that with bag-of-words approaches often the only tools that we have for identifying words with similar usage or meaning and subsequently consolidating them into a single vector is through the processes of stemming and lemmatization which tend to be quite limited at consolidating words unless the two words are very close in their spelling or in their root parts-of-speech.\n",
    "\n",
    "### Embedding approaches preserve more textual context\n",
    "Word2Vec is an increasingly popular word embedding technique. Like Bag-of-words it learns a real-value vector representation for a predefined fixed-size vocabulary that is generated from a corpus of text. However, in contrast to BoW, Word2Vec approaches are much more capable of accounting for textual context, and are better at discovering words with similar meanings or usages (semantic or syntactic similarity).\n",
    "\n",
    "### Word2Vec Intuition\n",
    "### The Distribution Hypothesis\n",
    "\n",
    "In order to understand how Word2Vec preserves textual context we have to understand what's called the Distribution Hypothesis (Reference: Distribution Hypothesis Theory  -https://en.wikipedia.org/wiki/Distributional_semantics. The Distribution Hypothesis operates under the assumption that words that have similar contexts will have similar meanings. Practically speaking, this means that if two words are found to have similar words both to the right and to the left of them throughout the corpora then those words have the same context and are assumed to have the same meaning. \n",
    "\n",
    "> \"You shall know a word by the company it keeps\" - John Firth\n",
    "\n",
    "This means that we let the usage of a word define its meaning and its \"similarity\" to other words. In the following example, which words would you say have a similar meaning? \n",
    "\n",
    "**Sentence 1**: Traffic was light today\n",
    "\n",
    "**Sentence 2**: Traffic was heavy yesterday\n",
    "\n",
    "**Sentence 3**: Prediction is that traffic will be smooth-flowing tomorrow since it is a national holiday\n",
    "\n",
    "What words in the above sentences seem to have a similar meaning if all you knew about them was the context in which they appeared above? \n",
    "\n",
    "Lets take a look at how this might work in action, the following example is simplified, but will give you an idea of the intuition for how this works.\n",
    "\n",
    "#### Corpora:\n",
    "\n",
    "1) \"It was the sunniest of days.\"\n",
    "\n",
    "2) \"It was the raniest of days.\"\n",
    "\n",
    "#### Vocabulary:\n",
    "\n",
    "{\"it\": 1, \"was\": 2, \"the\": 3, \"of\": 4, \"days\": 5, \"sunniest\": 6, \"raniest\": 7}\n",
    "\n",
    "### Vectorization\n",
    "\n",
    "|       doc   | START_was | it_the | was_sunniest | the_of | sunniest_days | of_it | days_was | it_the | was_raniest | raniest_days | of_END |\n",
    "|----------|-----------|--------|--------------|--------|---------------|-------|----------|--------|-------------|--------------|--------|\n",
    "| it       | 1         | 0      | 0            | 0      | 0             | 0     | 1        | 0      | 0           | 0            | 0      |\n",
    "| was      | 0         | 1      | 0            | 0      | 0             | 0     | 0        | 1      | 0           | 0            | 0      |\n",
    "| the      | 0         | 0      | 1            | 0      | 0             | 0     | 0        | 0      | 1           | 0            | 0      |\n",
    "| sunniest | 0         | 0      | 0            | 1      | 0             | 0     | 0        | 0      | 0           | 0            | 0      |\n",
    "| of       | 0         | 0      | 0            | 0      | 1             | 0     | 0        | 0      | 0           | 1            | 0      |\n",
    "| days     | 0         | 0      | 0            | 0      | 0             | 0     | 0        | 0      | 0           | 0            | 1      |\n",
    "| raniest  | 0         | 0      | 0            | 1      | 0             | 0     | 0        | 0      | 0           | 0            | 0      |\n",
    "\n",
    "Each column vector represents the word's context -in this case defined by the words to the left and right of the center word. How far we look to the left and right of a given word is referred to as our \"window of context.\" Each row vector represents the the different usages of a given word. Word2Vec can consider a larger context than only words that are immediately to the left and right of a given word, but we're going to keep our window of context small for this example. What's most important is that this vectorization has translated our documents from a text representation to a numeric one in a way that preserves information about the underlying context. \n",
    "\n",
    "We can see that words that have a similar context will have similar row-vector representations, but before looking that more in-depth, lets simplify our vectorization slightly. You'll notice that we're repeating the column-vector \"it_the\" twice. Lets combine those into a single vector by adding them element-wise. \n",
    "\n",
    "|       *   | START_was | it_the | was_sunniest | the_of | sunniest_days | of_it | days_was | was_raniest | raniest_days | of_END |\n",
    "|----------|-----------|--------|--------------|--------|---------------|-------|----------|-------------|--------------|--------|\n",
    "| it       | 1         | 0      | 0            | 0      | 0             | 0     | 1        | 0           | 0            | 0      |\n",
    "| was      | 0         | 2      | 0            | 0      | 0             | 0     | 0        | 0           | 0            | 0      |\n",
    "| the      | 0         | 0      | 1            | 0      | 0             | 0     | 0        | 1           | 0            | 0      |\n",
    "| sunniest | 0         | 0      | 0            | 1      | 0             | 0     | 0        | 0           | 0            | 0      |\n",
    "| of       | 0         | 0      | 0            | 0      | 1             | 0     | 0        | 0           | 1            | 0      |\n",
    "| days     | 0         | 0      | 0            | 0      | 0             | 0     | 0        | 0           | 0            | 1      |\n",
    "| raniest  | 0         | 0      | 0            | 1      | 0             | 0     | 0        | 0           | 0            | 0      |\n",
    "\n",
    "Now, can you spot which words have a similar row-vector representation? Hint: Look for values that are repeated in a given column. Each column represents the context that word was found in. If there are multiple words that share a context then those words are understood to have a closer meaning with each other than with other words in the text.\n",
    "\n",
    "Lets look specifically at the words sunniest and raniest. You'll notice that these two words have exactly the same 10-dimensional vector representation. Based on this very small corpora of text we would conclude that these two words have the same meaning because they share the same usage. Is this a good assumption? Well, they are both referring to the weather outside so that's better than nothing. You could imagine that as our corpora grows larger we will be exposed a greater number of contexts and the Distribution Hypothesis assumption will improve. \n",
    "\n",
    "### Word2Vec Variants\n",
    "\n",
    "#### Skip-Gram\n",
    "\n",
    "The Skip-Gram method predicts the neighbors’ of a word given a center word. In the skip-gram model, we take a center word and a window of context (neighbors) words to train the model and then predict context words out to some window size for each center word.\n",
    "\n",
    "This notion of “context” or “neighboring” words is best described by considering a center word and a window of words around it. \n",
    "\n",
    "For example, if we consider the sentence **“The speedy Porsche drove past the elegant Rolls-Royce”** and a window size of 2, we’d have the following pairs for the skip-gram model:\n",
    "\n",
    "**Text:**\n",
    "**The**\tspeedy\tPorsche\tdrove\tpast\tthe\telegant\tRolls-Royce\n",
    "\n",
    "*Training Sample with window of 2*: (the, speedy), (the, Porsche)\n",
    "\n",
    "**Text:**\n",
    "The\t**speedy**\tPorsche\tdrove\tpast\tthe\telegant\tRolls-Royce\n",
    "\n",
    "*Training Sample with window of 2*: (speedy, the), (speedy, Porsche), (speedy, drove)\n",
    "\n",
    "**Text:**\n",
    "The\tspeedy\t**Porsche**\tdrove\tpast\tthe\telegant\tRolls-Royce\n",
    "\n",
    "*Training Sample with window of 2*: (Porsche, the), (Porsche, speedy), (Porsche, drove), (Porsche, past)\n",
    "\n",
    "**Text:**\n",
    "The\tspeedy\tPorsche\t**drove**\tpast\tthe\telegant\tRolls-Royce\n",
    "\n",
    "*Training Sample with window of 2*: (drove, speedy), (drove, Porsche), (drove, past), (drove, the)\n",
    "\n",
    "The **Skip-gram model** is going to output a probability distribution i.e. the probability of a word appearing in context given a center word and we are going to select the vector representation that maximizes the probability.\n",
    "\n",
    "With CountVectorizer and TF-IDF the best we could do for context was to look at common bi-grams and tri-grams (n-grams). Well, skip-grams go far beyond that and give our model much stronger contextual information.\n",
    "\n",
    "![alt text](https://www.dropbox.com/s/c7mwy6dk9k99bgh/Image%202%20-%20SkipGrams.jpg?raw=1)\n",
    "\n",
    "## Continuous Bag of Words\n",
    "\n",
    "This model takes thes opposite approach from the skip-gram model in that it tries to predict a center word based on the neighboring words. In the case of the CBOW model, we input the context words within the window (such as “the”, “Proshe”, “drove”) and aim to predict the target or center word “speedy” (the input to the prediction pipeline is reversed as compared to the SkipGram model).\n",
    "\n",
    "A graphical depiction of the input to output prediction pipeline for both variants of the Word2vec model is attached. The graphical depiction will help crystallize the difference between SkipGrams and Continuous Bag of Words.\n",
    "\n",
    "![alt text](https://www.dropbox.com/s/k3ddmbtd52wq2li/Image%203%20-%20CBOW%20Model.jpg?raw=1)\n",
    "\n",
    "## Notable Differences between Word Embedding methods:\n",
    "\n",
    "1) W2V focuses less document topic-modeling. You'll notice that the vectorizations don't really retain much information about the original document that the information came from. At least not in our examples.\n",
    "\n",
    "2) W2V can result in really large and complex vectorizations. In fact, you need Deep Neural Networks to train your Word2Vec models from scratch, but we can use helpful pretrained embeddings (thank you Google) to do really cool things!\n",
    "\n",
    "*^ All that noise....AND Spacy has pretrained a Word2Vec model you can just use? WTF JC?*\n",
    "\n",
    "Let's take a look at how to do it. "
   ]
  },
  {
   "cell_type": "code",
   "execution_count": 43,
   "metadata": {},
   "outputs": [
    {
     "name": "stdout",
     "output_type": "stream",
     "text": [
      "[ 2.07984239e-01 -2.60890484e-01 -1.15457252e-01 -1.96443751e-01\n",
      " -2.83249468e-03  3.55849974e-02 -2.05170006e-01 -2.27374747e-01\n",
      "  8.56052488e-02  1.36894751e+00 -5.74124977e-02  8.06210041e-02\n",
      "  2.37275064e-02  1.17454052e-01 -6.53099641e-03 -1.24400005e-01\n",
      "  1.99086756e-01  6.37722552e-01  1.52916998e-01 -2.33504996e-01\n",
      " -2.40909994e-01 -7.11500049e-02 -9.10753161e-02  7.16734976e-02\n",
      "  1.16262749e-01 -3.91372502e-01  1.13048747e-01 -2.11327493e-01\n",
      "  1.09019078e-01 -2.44885415e-01  3.00577488e-02  4.77855802e-02\n",
      "  7.37800002e-02  2.57142037e-01  2.62586236e-01 -1.66897491e-01\n",
      "  1.87596500e-01 -1.23680010e-02 -1.76299751e-01  1.11685000e-01\n",
      "  1.82024967e-02  9.86500084e-03 -3.58770013e-01 -2.23265499e-01\n",
      " -4.37720008e-02  3.63999486e-01  7.42954984e-02  1.21225506e-01\n",
      "  1.37013003e-01 -5.50666526e-02  2.66017504e-02  8.87180045e-02\n",
      " -1.14092499e-01 -2.02865750e-01  3.63092512e-01 -3.08394760e-01\n",
      "  1.13859497e-01  3.13650146e-02  2.62076259e-01  1.90399922e-02\n",
      "  7.24634901e-02  2.79004984e-02  8.65525007e-02  6.92452565e-02\n",
      " -9.77424979e-02 -1.47966757e-01  2.32025003e-03  1.62278250e-01\n",
      "  1.59857497e-02  3.52048993e-01 -5.51802553e-02  2.13179991e-01\n",
      "  3.63152504e-01  1.01501703e-01  1.73463732e-01  9.20909941e-02\n",
      "  1.27134249e-01  1.00527555e-02  2.44570002e-01 -6.89124968e-03\n",
      "  6.30075037e-02  1.31706819e-01 -1.36811763e-01 -3.73892523e-02\n",
      " -1.71941705e-02 -1.47585243e-01  2.69147515e-01  1.97296605e-01\n",
      " -1.14209257e-01  7.49210045e-02  1.12407543e-02  6.53382465e-02\n",
      "  7.39065409e-02 -1.47568747e-01 -9.98437554e-02  2.56100774e-01\n",
      "  3.41899954e-02 -1.95817441e-01  1.52259752e-01 -2.98299998e-01\n",
      "  3.71480025e-02  1.38142243e-01 -3.84989977e-02 -2.02540010e-02\n",
      "  2.38000415e-03 -8.94232512e-01  1.20125249e-01 -1.48699433e-03\n",
      "  3.07812482e-01  1.31904989e-01  2.28665009e-01 -4.28467512e-01\n",
      " -1.50100499e-01 -3.99947166e-05  7.09750131e-03 -9.08460468e-02\n",
      "  1.15139998e-01  2.73323029e-01  6.97097555e-02  1.37960017e-01\n",
      " -7.76264742e-02 -3.58945057e-02  1.47073746e-01 -2.70538747e-01\n",
      " -4.16769907e-02 -2.20907256e-01  1.29162997e-01  5.66806756e-02\n",
      " -2.10923001e-01 -1.12912245e-01 -1.24349967e-02  2.90902629e-02\n",
      " -9.14399922e-02  1.48545001e-02  1.73015013e-01  2.45295018e-01\n",
      "  2.36412495e-01  1.51691005e-01 -6.30199909e-02  2.67812014e-01\n",
      " -1.31286001e+00 -7.58474991e-02  1.29823506e-01 -1.51231751e-01\n",
      " -8.19625035e-02  1.39788002e-01 -1.48047015e-01  6.38692454e-02\n",
      "  2.33854756e-01 -9.88075137e-03  1.93658501e-01  2.27525085e-03\n",
      "  4.02045511e-02 -4.90897447e-02 -3.33292484e-01 -2.25562245e-01\n",
      " -2.13249400e-03 -1.25110000e-01 -2.07584769e-01 -8.20675045e-02\n",
      " -3.08577478e-01  2.42340490e-01  1.01082012e-01  1.69142485e-02\n",
      " -2.96225518e-01 -2.39765748e-01 -2.06788242e-01 -2.19947502e-01\n",
      "  1.32491991e-01  2.83937510e-02 -2.12792531e-02  2.11183250e-01\n",
      "  7.47520030e-02  5.15667535e-02 -2.79584527e-01  5.96700013e-02\n",
      " -1.40897244e-01 -7.72149861e-03  9.76998210e-02 -2.29924992e-01\n",
      " -3.91512439e-02 -2.62144983e-01 -9.46324915e-02 -1.49488509e-01\n",
      " -4.47402522e-02  4.87175062e-02 -1.00491997e-02 -1.57508999e-01\n",
      "  1.83425248e-01 -7.38234967e-02 -5.53542078e-02  3.62554997e-01\n",
      "  6.00774996e-02 -3.51069048e-02 -2.12482512e-02 -5.44437282e-02\n",
      "  5.77000529e-03 -4.17417213e-02 -2.30720505e-01  3.05450335e-03\n",
      " -2.60736495e-01  9.90725309e-03  1.44257501e-01  1.58988327e-01\n",
      "  3.12480003e-01 -4.21992540e-02  1.47941500e-01 -2.60480493e-03\n",
      " -1.18254803e-01  3.76944989e-02  8.56549889e-02  2.98762500e-01\n",
      " -1.82907507e-01 -5.01237512e-01 -3.22812736e-01 -1.04721501e-01\n",
      " -2.11069018e-01 -1.58998221e-01 -1.63172990e-01 -1.53411508e-01\n",
      " -4.72389996e-01 -2.52688266e-02  6.80677444e-02 -3.47925007e-01\n",
      "  1.00139998e-01  3.17759998e-02 -2.02882513e-02  2.72649899e-02\n",
      "  2.80047543e-02  6.36423454e-02 -2.32529998e-01  1.78696245e-01\n",
      " -4.16299030e-02 -6.78092465e-02 -1.87866479e-01 -3.47625017e-01\n",
      "  5.43992445e-02 -1.05034754e-01  3.68332490e-02  2.01451257e-01\n",
      " -2.68060744e-01 -7.03077465e-02 -3.46807480e-01  1.18331507e-01\n",
      "  3.82332467e-02 -1.15444995e-01 -9.92614999e-02 -4.42850590e-03\n",
      " -3.42225015e-01  3.17104995e-01 -1.48628756e-01 -6.13242462e-02\n",
      " -8.43070000e-02  1.16139993e-01  1.61483496e-01  1.70949996e-01\n",
      "  1.95979327e-01  2.56112486e-01 -2.15889998e-02 -2.78974995e-02\n",
      "  2.59169757e-01  1.79182500e-01 -2.46662006e-01  1.68815508e-01\n",
      " -3.45774740e-03  2.30412483e-01 -1.22785002e-01  2.36632437e-01\n",
      " -4.52876002e-01 -3.92082512e-01 -2.01881751e-01 -1.27992496e-01\n",
      "  2.75517516e-02  5.54060042e-02 -3.12609941e-01  1.01338752e-01\n",
      "  1.83728248e-01  4.08405006e-01  1.23905048e-01  4.37955022e-01\n",
      "  2.54640013e-01 -6.01055101e-02 -2.90097505e-01  7.99837485e-02\n",
      "  6.81065023e-02  6.80774972e-02  1.45408496e-01 -1.65033251e-01\n",
      " -6.48526996e-02 -1.71237499e-01 -5.75472489e-02 -4.43175063e-03\n",
      "  2.72267759e-01 -2.11504504e-01 -2.87027508e-01  3.25110495e-01\n",
      " -4.72727492e-02 -3.86672527e-01  2.08224997e-01  1.24032997e-01]\n"
     ]
    }
   ],
   "source": [
    "# Process a text\n",
    "doc = nlp(\"Two bananas in pyjamas\")\n",
    "\n",
    "# Get the vector for the token \"bananas\"\n",
    "bananas_vector = doc.vector\n",
    "print(bananas_vector)"
   ]
  },
  {
   "cell_type": "code",
   "execution_count": 44,
   "metadata": {},
   "outputs": [
    {
     "data": {
      "text/plain": [
       "300"
      ]
     },
     "execution_count": 44,
     "metadata": {},
     "output_type": "execute_result"
    }
   ],
   "source": [
    "len(bananas_vector)"
   ]
  },
  {
   "cell_type": "code",
   "execution_count": 46,
   "metadata": {},
   "outputs": [
    {
     "name": "stdout",
     "output_type": "stream",
     "text": [
      "0.8789265574516525\n"
     ]
    }
   ],
   "source": [
    "doc1 = nlp(\"It's a warm summer day\")\n",
    "doc2 = nlp(\"It's sunny outside\")\n",
    "\n",
    "# Get the similarity of doc1 and doc2\n",
    "similarity = doc1.similarity(doc2)\n",
    "print(similarity)"
   ]
  },
  {
   "cell_type": "code",
   "execution_count": 47,
   "metadata": {},
   "outputs": [
    {
     "data": {
      "text/plain": [
       "array([[ 5.15021219, -1.02589405],\n",
       "       [ 4.68847306, -0.32752874],\n",
       "       [ 4.18183622, -1.25490821],\n",
       "       [ 2.3045236 , -0.62841121],\n",
       "       [-1.6975279 , -1.26790577],\n",
       "       [-2.19008419,  0.0674359 ],\n",
       "       [-2.41987038, -1.23168885],\n",
       "       [-2.4303113 , -2.84156896],\n",
       "       [-1.9405539 , -2.55571106],\n",
       "       [-2.16312982, -2.6337209 ],\n",
       "       [ 0.66759362,  0.42236702],\n",
       "       [-0.36687779,  4.15296085],\n",
       "       [-1.89448123,  1.39241361],\n",
       "       [-1.44081158,  2.52885279],\n",
       "       [-0.87134078,  2.86535252],\n",
       "       [ 0.42235018,  2.33795505]])"
      ]
     },
     "execution_count": 47,
     "metadata": {},
     "output_type": "execute_result"
    }
   ],
   "source": [
    "# import the PCA module from sklearn\n",
    "from sklearn.decomposition import PCA\n",
    "\n",
    "def get_word_vectors(words):\n",
    "    # converts a list of words into their word vectors\n",
    "    return [nlp(word).vector for word in words]\n",
    "\n",
    "words = ['car', 'truck', 'suv', 'race', 'elves', 'dragon', 'sword', 'king', 'queen', 'prince', 'horse', 'fish' , 'lion', 'tiger', 'lynx', 'potato']\n",
    "\n",
    "# intialise pca model and tell it to project data down onto 2 dimensions\n",
    "pca = PCA(n_components=2)\n",
    "\n",
    "# fit the pca model to our 300D data, this will work out which is the best \n",
    "# way to project the data down that will best maintain the relative distances \n",
    "# between data points. It will store these intructioons on how to transform the data.\n",
    "pca.fit(get_word_vectors(words))\n",
    "\n",
    "# Tell our (fitted) pca model to transform our 300D data down onto 2D using the \n",
    "# instructions it learnt during the fit phase.\n",
    "word_vecs_2d = pca.transform(get_word_vectors(words))\n",
    "\n",
    "# let's look at our new 2D word vectors\n",
    "word_vecs_2d"
   ]
  },
  {
   "cell_type": "code",
   "execution_count": 48,
   "metadata": {},
   "outputs": [
    {
     "data": {
      "image/png": "[encoded data removed]",
      "text/plain": [
       "<Figure size 1440x1080 with 1 Axes>"
      ]
     },
     "metadata": {
      "needs_background": "light"
     },
     "output_type": "display_data"
    }
   ],
   "source": [
    "# create a nice big plot \n",
    "plt.figure(figsize=(20,15))\n",
    "\n",
    "# plot the scatter plot of where the words will be\n",
    "plt.scatter(word_vecs_2d[:,0], word_vecs_2d[:,1])\n",
    "\n",
    "# for each word and coordinate pair: draw the text on the plot\n",
    "for word, coord in zip(words, word_vecs_2d):\n",
    "    x, y = coord\n",
    "    plt.text(x, y, word, size= 15)\n",
    "\n",
    "# show the plot\n",
    "plt.show()"
   ]
  },
  {
   "cell_type": "markdown",
   "metadata": {},
   "source": [
    "## Follow Along\n",
    "### Extract Document Vectors\n",
    "\n",
    "Let's see how much the quality of our query will work when we try a new embedding model.\n",
    "\n",
    "Steps:\n",
    "* Extract Vectors from Each Document\n",
    "* Search using KNN\n"
   ]
  },
  {
   "cell_type": "code",
   "execution_count": 49,
   "metadata": {},
   "outputs": [],
   "source": [
    "X = [nlp(str(d)).vector for d in data]"
   ]
  },
  {
   "cell_type": "code",
   "execution_count": 50,
   "metadata": {},
   "outputs": [
    {
     "data": {
      "text/plain": [
       "array([-6.83337450e-03,  1.82532519e-01, -4.80340719e-02, -6.76137134e-02,\n",
       "        1.36899516e-01, -6.86210841e-02,  7.76971364e-03, -1.26677796e-01,\n",
       "        7.13112717e-03,  2.05411720e+00, -1.57727361e-01,  3.53595950e-02,\n",
       "        9.86045972e-02, -1.00333668e-01, -1.01428978e-01, -6.71155080e-02,\n",
       "       -8.38717744e-02,  1.08952403e+00, -9.68729556e-02, -7.96083063e-02,\n",
       "       -1.96842104e-02, -8.58754851e-03, -3.13445628e-02, -4.04388149e-04,\n",
       "        6.15377575e-02, -3.89034068e-03, -1.22205175e-01, -4.62925397e-02,\n",
       "        3.26730534e-02,  3.73379537e-03,  2.88973853e-04,  7.60618225e-03,\n",
       "       -9.56047978e-03,  5.81911206e-02,  8.07151347e-02, -6.11783154e-02,\n",
       "       -4.26866114e-02, -2.31096148e-02, -1.57732517e-02, -1.68423504e-02,\n",
       "       -8.07592366e-03,  6.88343421e-02,  4.62527983e-02, -6.42428473e-02,\n",
       "       -7.22957961e-03,  3.69578935e-02, -1.44851744e-01, -4.32868451e-02,\n",
       "        2.07620417e-03,  2.03209613e-02, -3.65128778e-02, -1.97316688e-02,\n",
       "       -5.68196401e-02, -2.08218861e-02,  9.14184526e-02, -1.61625736e-03,\n",
       "        2.12444854e-03, -7.28287622e-02,  5.81989512e-02, -5.89123033e-02,\n",
       "       -7.71033810e-03, -2.49313060e-02, -1.76921804e-02,  2.01207861e-01,\n",
       "        3.65798697e-02, -2.37753745e-02, -7.45201542e-04,  6.11438043e-02,\n",
       "       -2.03345865e-02,  7.22361729e-02,  6.22806884e-02,  7.73302764e-02,\n",
       "        1.21139966e-01, -1.91513207e-02,  5.16767055e-02, -3.70985381e-02,\n",
       "        1.29952595e-01, -5.52499369e-02,  2.43812334e-02,  2.44258508e-01,\n",
       "        1.98195670e-02,  9.49059129e-02, -1.48193613e-01, -2.00132597e-02,\n",
       "        2.35652234e-02, -1.84529841e-01, -1.38234735e-01, -6.00448772e-02,\n",
       "        1.68981001e-01,  1.02992458e-02, -5.65982200e-02,  2.59129591e-02,\n",
       "       -6.79753721e-02,  2.07132660e-02,  1.12483352e-01, -7.15459362e-02,\n",
       "        3.09646297e-02, -3.80339809e-02, -4.23738137e-02, -3.39222699e-02,\n",
       "       -1.27078295e-02,  3.95260379e-02, -7.92612880e-02, -3.08029782e-02,\n",
       "       -1.22800749e-02, -6.64165556e-01,  5.11292107e-02,  6.35425448e-02,\n",
       "        1.00408748e-01,  1.66917127e-02,  4.53513972e-02, -1.03761740e-01,\n",
       "        7.05550089e-02, -8.53194594e-02,  3.51288095e-02, -2.59187762e-02,\n",
       "        6.19078986e-02,  1.31300122e-01, -2.48719733e-02,  4.74592410e-02,\n",
       "        6.60682172e-02,  6.22775685e-03, -4.32893494e-03, -1.29945934e-01,\n",
       "       -3.70663032e-02,  5.25775887e-02,  8.74817744e-02, -1.25535280e-01,\n",
       "        2.68999171e-02, -3.26159177e-03,  1.16278538e-02, -4.07595448e-02,\n",
       "       -1.57593191e-02,  1.22412704e-02,  4.08442058e-02,  7.01108295e-03,\n",
       "        2.76035592e-02,  3.34895588e-02,  5.24396123e-03,  2.77495813e-02,\n",
       "       -1.02132297e+00,  3.37518267e-02,  1.39946744e-01, -1.45106157e-02,\n",
       "        5.69947213e-02, -4.38259877e-02, -6.20369129e-02,  3.85669805e-02,\n",
       "        3.14209275e-02, -6.98034391e-02, -3.89566608e-02,  8.80099274e-03,\n",
       "        8.33297744e-02,  8.28800537e-03, -6.02658056e-02, -1.68698225e-02,\n",
       "       -7.43418112e-02,  3.55191156e-02, -2.42950525e-02, -6.18926361e-02,\n",
       "        1.79136894e-03,  3.19742151e-02,  5.02897985e-02, -1.62519723e-01,\n",
       "       -1.56136438e-01, -1.24334261e-01,  8.87463167e-02, -3.02741043e-02,\n",
       "        1.59312040e-01, -1.41991787e-02,  2.45258342e-02, -1.27322727e-03,\n",
       "       -6.95995754e-03, -5.18974103e-02, -9.48474035e-02,  2.56895684e-02,\n",
       "        7.84693565e-03,  6.00885646e-03, -2.90626511e-02,  2.69398093e-03,\n",
       "        1.84670556e-02, -5.18060923e-02, -1.16912380e-01, -1.12156741e-01,\n",
       "       -6.13319352e-02, -1.88853238e-02, -4.06725146e-02, -9.64167994e-03,\n",
       "        6.70709610e-02, -2.58465912e-02,  2.16185935e-02, -1.82793494e-02,\n",
       "       -4.19788100e-02,  1.17010243e-01, -5.13750389e-02,  6.37363195e-02,\n",
       "       -2.86737420e-02, -7.91641846e-02, -1.16631962e-01,  1.09656632e-01,\n",
       "        3.90924774e-02, -9.86036286e-02, -2.83868983e-02,  4.27845903e-02,\n",
       "        2.15560913e-01,  2.16945168e-02,  3.32993306e-02, -5.18458411e-02,\n",
       "       -4.56014089e-02,  3.42022926e-02, -8.38847309e-02, -1.17914833e-01,\n",
       "       -4.91173454e-02, -1.69953376e-01,  1.16614863e-01,  1.10343963e-01,\n",
       "       -1.11122295e-01, -1.86068583e-02, -1.92742109e-01,  2.92417500e-02,\n",
       "        4.74673808e-02, -2.78331637e-02, -8.21926966e-02,  6.13488108e-02,\n",
       "       -7.61972293e-02, -3.52646522e-02,  2.40856521e-02,  7.08860233e-02,\n",
       "        1.62459966e-02,  6.32313117e-02, -3.43843326e-02, -1.07248537e-02,\n",
       "        5.64625971e-02,  1.02665080e-02, -4.56228442e-02, -8.46459046e-02,\n",
       "        9.67802200e-03, -1.07989140e-01, -2.37140758e-03,  8.79732221e-02,\n",
       "        4.05151397e-04,  4.02102992e-02,  4.95098792e-02,  8.91327187e-02,\n",
       "        1.10631011e-01, -1.85269192e-01, -2.03837417e-02, -1.06271796e-01,\n",
       "       -1.53380767e-01,  1.58733018e-02,  2.57890839e-02, -2.14764029e-02,\n",
       "       -4.67909873e-02, -4.49708365e-02,  4.31415513e-02,  1.68399647e-01,\n",
       "        7.66246393e-02, -1.48763824e-02, -6.40916005e-02,  4.58546774e-03,\n",
       "        2.07930654e-01,  2.04239875e-01, -3.63449492e-02,  9.03035626e-02,\n",
       "        3.44388224e-02, -1.57294214e-01,  1.39591349e-02, -3.87730412e-02,\n",
       "        3.19180936e-01, -3.64447609e-02,  5.20108193e-02,  1.64285805e-02,\n",
       "       -6.00653104e-02, -1.02828227e-01, -7.59651661e-02, -6.93705752e-02,\n",
       "       -4.89969291e-02,  1.14200525e-01,  8.72473046e-02,  1.11118644e-01,\n",
       "        1.10895313e-01,  1.25711739e-01,  1.71253458e-02,  3.79740931e-02,\n",
       "       -5.26383147e-02, -6.88132495e-02,  1.12698391e-01, -6.64398819e-02,\n",
       "        6.44526333e-02,  5.27121089e-02, -2.65169770e-01,  2.00322196e-02,\n",
       "        7.60671422e-02,  8.13625287e-03, -1.81226265e-02, -4.26923521e-02,\n",
       "       -1.77785959e-02, -6.21244498e-03, -4.78216559e-02,  1.10253289e-01],\n",
       "      dtype=float32)"
      ]
     },
     "execution_count": 50,
     "metadata": {},
     "output_type": "execute_result"
    }
   ],
   "source": [
    "X[0]"
   ]
  },
  {
   "cell_type": "markdown",
   "metadata": {},
   "source": [
    "## Challenge\n",
    "\n",
    "You will extract word embeddings from documents using Spacy's pretrained model in the upcoming module project. "
   ]
  },
  {
   "cell_type": "markdown",
   "metadata": {},
   "source": [
    "# Review\n",
    "For your module project assignment you will create vector repsentations of indeed.com Data Science job listings. You will then estimate a similarity model to perform searches for job descriptions. Get started with your [module project here](./LS_DS_412_Vector_Representations_Assignment.ipynb)"
   ]
  },
  {
   "cell_type": "markdown",
   "metadata": {},
   "source": [
    "# Sources\n",
    "\n",
    "* Spacy 101 - https://course.spacy.io\n",
    "* NLTK Book - https://www.nltk.org/book/\n",
    "* An Introduction to Information Retrieval - https://nlp.stanford.edu/IR-book/pdf/irbookonlinereading.pdf"
   ]
  }
 ],
 "metadata": {
  "kernelspec": {
   "display_name": "Python 3",
   "language": "python",
   "name": "python3"
  },
  "language_info": {
   "codemirror_mode": {
    "name": "ipython",
    "version": 3
   },
   "file_extension": ".py",
   "mimetype": "text/x-python",
   "name": "python",
   "nbconvert_exporter": "python",
   "pygments_lexer": "ipython3",
   "version": "3.7.4"
  }
 },
 "nbformat": 4,
 "nbformat_minor": 4
}
